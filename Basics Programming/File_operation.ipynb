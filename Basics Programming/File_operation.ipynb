{
 "cells": [
  {
   "cell_type": "markdown",
   "metadata": {},
   "source": [
    "## File Operations"
   ]
  },
  {
   "cell_type": "markdown",
   "metadata": {},
   "source": [
    "#Read Operation"
   ]
  },
  {
   "cell_type": "code",
   "execution_count": 2,
   "metadata": {},
   "outputs": [
    {
     "name": "stdout",
     "output_type": "stream",
     "text": [
      "Hello there...\n",
      "\n",
      "1) In \"data_types.py\" file, i have practiced advanced data types of python (List, Tuple, Set, & Dictionary). These codes are for my learning purpose. \n",
      "\n",
      "2) In \"practice.py\" file, i have practiced basic python programming. i have coded Variables, operators, loops, conditions and so many things.\n",
      "\n",
      "3) \"test.ipynb\" file is just a ipynb format of \"practice.py\" file.\n",
      "\n",
      "4) In \"Functions.ipynb\" file, i have practiced the 'Function' topic of python programming.\n",
      "\n",
      "5) In \"File_operation.py\" file, i have practiced the 'File' topic of python programming. (Read, Write, Delete)\n",
      "\n"
     ]
    }
   ],
   "source": [
    "with open('Read me.txt', mode='r') as file:\n",
    "    reader=file.read()\n",
    "    print(reader)"
   ]
  },
  {
   "cell_type": "markdown",
   "metadata": {},
   "source": [
    "#Read a file line by line\n"
   ]
  },
  {
   "cell_type": "code",
   "execution_count": 5,
   "metadata": {},
   "outputs": [
    {
     "name": "stdout",
     "output_type": "stream",
     "text": [
      "Hello there...\n",
      "\n",
      "1) In \"data_types.py\" file, i have practiced advanced data types of python (List, Tuple, Set, & Dictionary). These codes are for my learning purpose.\n",
      "\n",
      "2) In \"practice.py\" file, i have practiced basic python programming. i have coded Variables, operators, loops, conditions and so many things.\n",
      "\n",
      "3) \"test.ipynb\" file is just a ipynb format of \"practice.py\" file.\n",
      "\n",
      "4) In \"Functions.ipynb\" file, i have practiced the 'Function' topic of python programming.\n",
      "\n",
      "5) In \"File_operation.py\" file, i have practiced the 'File' topic of python programming. (Read, Write, Delete)\n"
     ]
    }
   ],
   "source": [
    "with open('Read me.txt', mode='r') as file:\n",
    "    for line in file:\n",
    "        print(line.strip()) #strip() removes the newline character"
   ]
  },
  {
   "cell_type": "markdown",
   "metadata": {},
   "source": [
    "#Writing a file with overwrite"
   ]
  },
  {
   "cell_type": "code",
   "execution_count": null,
   "metadata": {},
   "outputs": [
    {
     "name": "stdout",
     "output_type": "stream",
     "text": [
      "I'm Md. Istiak Mondol\n"
     ]
    }
   ],
   "source": [
    "with open('example.txt',mode='w') as file:\n",
    "    file.write(\"Hello World!\\n\") ##Overwrite\n",
    "    file.write(\"I'm Md. Istiak Mondol\") ##Overwrite\n",
    "\n",
    "with open('example.txt',mode='r') as file:\n",
    "    for line in file:\n",
    "        print(line.strip())"
   ]
  },
  {
   "cell_type": "markdown",
   "metadata": {},
   "source": [
    "#Writing a file without overwrite"
   ]
  },
  {
   "cell_type": "code",
   "execution_count": 16,
   "metadata": {},
   "outputs": [],
   "source": [
    "with open('example.txt',mode='a') as file:\n",
    "    file.write(\"It will write wiout removing anything written previously!\\n\")"
   ]
  },
  {
   "cell_type": "markdown",
   "metadata": {},
   "source": [
    "#Writing a list of lines into a file"
   ]
  },
  {
   "cell_type": "code",
   "execution_count": 19,
   "metadata": {},
   "outputs": [],
   "source": [
    "lines=['First line!\\n','second line!\\n','third line!\\n']\n",
    "with open('example.txt',mode='a') as file:\n",
    "    file.writelines(lines)"
   ]
  },
  {
   "cell_type": "code",
   "execution_count": null,
   "metadata": {},
   "outputs": [],
   "source": []
  }
 ],
 "metadata": {
  "kernelspec": {
   "display_name": "Python 3",
   "language": "python",
   "name": "python3"
  },
  "language_info": {
   "codemirror_mode": {
    "name": "ipython",
    "version": 3
   },
   "file_extension": ".py",
   "mimetype": "text/x-python",
   "name": "python",
   "nbconvert_exporter": "python",
   "pygments_lexer": "ipython3",
   "version": "3.12.0"
  }
 },
 "nbformat": 4,
 "nbformat_minor": 2
}
