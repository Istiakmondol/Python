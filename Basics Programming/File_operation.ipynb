{
 "cells": [
  {
   "cell_type": "markdown",
   "metadata": {},
   "source": [
    "## File Operations"
   ]
  },
  {
   "cell_type": "markdown",
   "metadata": {},
   "source": [
    "Read Operation"
   ]
  },
  {
   "cell_type": "code",
   "execution_count": 4,
   "metadata": {},
   "outputs": [
    {
     "name": "stdout",
     "output_type": "stream",
     "text": [
      "Hello there...\n",
      "\n",
      "1) In \"Advance_data_types.ipynb\" file, i have practiced advanced data types of python (List, Tuple, Set, & Dictionary). These codes are for my learning purpose. \n",
      "\n",
      "2) In \"basic.ipynb\" file i have practiced basic python programming. i have coded Variables, operators, loops, conditions and so many things.\n",
      "\n",
      "3) In \"Functions.ipynb\" file, i have practiced the 'Function' topic of python programming.\n",
      "\n",
      "4) In \"File_operation.py\" file, i have practiced the 'File' topic as well as file path operation (Os) of python programming. (Read, Write, Append) \n",
      "\n",
      "5) In \"import_modules&packages.ipynb\" file, i have covered about the most common python libraries and their uses and practiced how to call them.\n",
      "\n",
      "6) In 'Exception.ipynb' file i have practiced the 'Exception' handling topic, where i saw (try-except, try-except-else, try-except-else-finally block).\n",
      "\n"
     ]
    }
   ],
   "source": [
    "with open('Read me.txt', mode='r') as file:\n",
    "    reader=file.read()\n",
    "    print(reader)"
   ]
  },
  {
   "cell_type": "markdown",
   "metadata": {},
   "source": [
    "Read a file line by line\n"
   ]
  },
  {
   "cell_type": "code",
   "execution_count": 5,
   "metadata": {},
   "outputs": [
    {
     "name": "stdout",
     "output_type": "stream",
     "text": [
      "Hello there...\n",
      "\n",
      "1) In \"data_types.py\" file, i have practiced advanced data types of python (List, Tuple, Set, & Dictionary). These codes are for my learning purpose.\n",
      "\n",
      "2) In \"practice.py\" file, i have practiced basic python programming. i have coded Variables, operators, loops, conditions and so many things.\n",
      "\n",
      "3) \"test.ipynb\" file is just a ipynb format of \"practice.py\" file.\n",
      "\n",
      "4) In \"Functions.ipynb\" file, i have practiced the 'Function' topic of python programming.\n",
      "\n",
      "5) In \"File_operation.py\" file, i have practiced the 'File' topic of python programming. (Read, Write, Delete)\n"
     ]
    }
   ],
   "source": [
    "with open('Read me.txt', mode='r') as file:\n",
    "    for line in file:\n",
    "        print(line.strip()) #strip() removes the newline character"
   ]
  },
  {
   "cell_type": "markdown",
   "metadata": {},
   "source": [
    "Writing a file with overwrite"
   ]
  },
  {
   "cell_type": "code",
   "execution_count": 7,
   "metadata": {},
   "outputs": [
    {
     "name": "stdout",
     "output_type": "stream",
     "text": [
      "Hello World!\n",
      "I'm Md. Istiak Nayem\n"
     ]
    }
   ],
   "source": [
    "with open('example.txt',mode='w') as file:\n",
    "    file.write(\"Hello World!\\n\") ##Overwrite\n",
    "    file.write(\"I'm Md. Istiak Nayem\") ##Overwrite\n",
    "\n",
    "with open('example.txt',mode='r') as file:\n",
    "    for line in file:\n",
    "        print(line.strip())"
   ]
  },
  {
   "cell_type": "markdown",
   "metadata": {},
   "source": [
    "#Writing a file without overwrite"
   ]
  },
  {
   "cell_type": "code",
   "execution_count": 9,
   "metadata": {},
   "outputs": [],
   "source": [
    "with open('example.txt',mode='a') as file:\n",
    "    file.write(\"\\nIt will write wiout removing anything written previously!\\n\")"
   ]
  },
  {
   "cell_type": "markdown",
   "metadata": {},
   "source": [
    "#Writing a list of lines into a file"
   ]
  },
  {
   "cell_type": "code",
   "execution_count": 13,
   "metadata": {},
   "outputs": [],
   "source": [
    "lines=['First line!\\n','second line!\\n','third line!\\n']\n",
    "with open('example.txt',mode='a') as file:\n",
    "    file.writelines(lines)"
   ]
  },
  {
   "cell_type": "markdown",
   "metadata": {},
   "source": [
    "# Binary Files"
   ]
  },
  {
   "cell_type": "markdown",
   "metadata": {},
   "source": [
    "#read and write"
   ]
  },
  {
   "cell_type": "code",
   "execution_count": 7,
   "metadata": {},
   "outputs": [
    {
     "name": "stdout",
     "output_type": "stream",
     "text": [
      "b'\\x00\\x01\\x02\\x03\\x04'\n"
     ]
    }
   ],
   "source": [
    "data=b'\\x00\\x01\\x02\\x03\\x04'\n",
    "with open('example.bin',mode='wb') as file:\n",
    "    file.write(data)\n",
    "with open('example.bin',mode='rb') as file:\n",
    "    content=file.read()\n",
    "    print(content)"
   ]
  },
  {
   "cell_type": "markdown",
   "metadata": {},
   "source": [
    "#Read content from source file and write into destination file"
   ]
  },
  {
   "cell_type": "code",
   "execution_count": 14,
   "metadata": {},
   "outputs": [],
   "source": [
    "with open('example.txt', mode='r') as file:\n",
    "    content=file.read()  #Reading Source file\n",
    "with open ('Destination.txt', mode='w') as dest_file: ##if the destination file not exist it will create it self\n",
    "    dest_file.write(content) ##Writing to the destination file"
   ]
  },
  {
   "cell_type": "markdown",
   "metadata": {},
   "source": [
    "#Writing and Reading a file"
   ]
  },
  {
   "cell_type": "code",
   "execution_count": 18,
   "metadata": {},
   "outputs": [
    {
     "name": "stdout",
     "output_type": "stream",
     "text": [
      "My name is khan, and\n",
      "i'm not a terrorist\n"
     ]
    }
   ],
   "source": [
    "with open('example.txt', mode='w+') as file:\n",
    "    file.write(\"My name is khan, and\\n\")\n",
    "    file.write(\"i'm not a terrorist\")\n",
    "    file.seek(0) #Cursor goes back to 1st line\n",
    "    content=file.read()\n",
    "    print(content)\n"
   ]
  },
  {
   "cell_type": "code",
   "execution_count": null,
   "metadata": {},
   "outputs": [
    {
     "name": "stdout",
     "output_type": "stream",
     "text": [
      "Hello\n",
      "My name is Istiak\n",
      "\n"
     ]
    }
   ],
   "source": [
    "with open ('example.txt', mode='w') as file:\n",
    "    file.write(\"Hello\\nMy name is Istiak\\n\")\n",
    "with open ('example.txt', mode='r') as file:\n",
    "    content=file.read()\n",
    "    print(content)"
   ]
  },
  {
   "cell_type": "markdown",
   "metadata": {},
   "source": [
    "# File path"
   ]
  },
  {
   "cell_type": "markdown",
   "metadata": {},
   "source": [
    "create a new directory"
   ]
  },
  {
   "cell_type": "code",
   "execution_count": null,
   "metadata": {},
   "outputs": [
    {
     "name": "stdout",
     "output_type": "stream",
     "text": [
      "Directory 'NewFolder' created\n"
     ]
    }
   ],
   "source": [
    "import os\n",
    "new_dir=\"NewFolder\"\n",
    "os.mkdir(new_dir)\n",
    "print(f\"Directory '{new_dir}' created\")"
   ]
  },
  {
   "cell_type": "code",
   "execution_count": 3,
   "metadata": {},
   "outputs": [
    {
     "name": "stdout",
     "output_type": "stream",
     "text": [
      "Directory 'NewFolder' created\n"
     ]
    }
   ],
   "source": [
    "import os\n",
    "os.mkdir(\"New Folder\")\n",
    "print(f\"Directory '{new_dir}' created\")"
   ]
  },
  {
   "cell_type": "markdown",
   "metadata": {},
   "source": [
    "Listing Files and directories"
   ]
  },
  {
   "cell_type": "code",
   "execution_count": 6,
   "metadata": {},
   "outputs": [
    {
     "name": "stdout",
     "output_type": "stream",
     "text": [
      "['Advance_data_types.ipynb', 'File_operation.ipynb', 'functions.ipynb', 'import_modules&packages.ipynb', 'practice.py', 'Read me.txt', 'test.ipynb']\n"
     ]
    }
   ],
   "source": [
    "lists=os.listdir('.') #Here '.' dot basically means currect working directory\n",
    "print(lists)\n"
   ]
  },
  {
   "cell_type": "markdown",
   "metadata": {},
   "source": [
    "Joining Paths"
   ]
  },
  {
   "cell_type": "code",
   "execution_count": 7,
   "metadata": {},
   "outputs": [
    {
     "name": "stdout",
     "output_type": "stream",
     "text": [
      "new_folder\\file.txt\n"
     ]
    }
   ],
   "source": [
    "dir_name=\"new_folder\"\n",
    "file_name=\"file.txt\"\n",
    "paths=os.path.join(dir_name,file_name)\n",
    "print(paths)"
   ]
  },
  {
   "cell_type": "markdown",
   "metadata": {},
   "source": [
    "Joining path within current working directories"
   ]
  },
  {
   "cell_type": "code",
   "execution_count": 8,
   "metadata": {},
   "outputs": [
    {
     "name": "stdout",
     "output_type": "stream",
     "text": [
      "g:\\Data Analytics\\Python-for-Data-Analytics\\Basics Programming\\new folder\\file.txt\n"
     ]
    }
   ],
   "source": [
    "dir_name=\"new folder\"\n",
    "file_name=\"file.txt\"\n",
    "paths=os.path.join(os.getcwd(),dir_name,file_name)\n",
    "print(paths)"
   ]
  },
  {
   "cell_type": "markdown",
   "metadata": {},
   "source": [
    "Check: whether a file exists or not"
   ]
  },
  {
   "cell_type": "code",
   "execution_count": 21,
   "metadata": {},
   "outputs": [
    {
     "name": "stdout",
     "output_type": "stream",
     "text": [
      "The path: Read me.txt exists\n"
     ]
    }
   ],
   "source": [
    "import os\n",
    "path='Read me.txt'\n",
    "if os.path.exists(path):\n",
    "    print(f\"The path: {path} exists\")\n",
    "else:\n",
    "    print(f\"The path: {path} does not exists\")"
   ]
  },
  {
   "cell_type": "markdown",
   "metadata": {},
   "source": [
    "Check: if path is a File or Directory"
   ]
  },
  {
   "cell_type": "code",
   "execution_count": 22,
   "metadata": {},
   "outputs": [
    {
     "name": "stdout",
     "output_type": "stream",
     "text": [
      "The path: Read me.txt is a File!\n"
     ]
    }
   ],
   "source": [
    "path='Read me.txt'\n",
    "#os.mkdir(path)\n",
    "if os.path.isfile(path):\n",
    "    print(f\"The path: {path} is a File!\")\n",
    "elif os.path.isdir(path):\n",
    "    print(f\"The path: {path} is a Directory!\")\n",
    "else:\n",
    "    print(f\"The path {path} is neither a file nor a directory!\")"
   ]
  },
  {
   "cell_type": "code",
   "execution_count": null,
   "metadata": {},
   "outputs": [],
   "source": []
  }
 ],
 "metadata": {
  "kernelspec": {
   "display_name": "Python 3",
   "language": "python",
   "name": "python3"
  },
  "language_info": {
   "codemirror_mode": {
    "name": "ipython",
    "version": 3
   },
   "file_extension": ".py",
   "mimetype": "text/x-python",
   "name": "python",
   "nbconvert_exporter": "python",
   "pygments_lexer": "ipython3",
   "version": "3.12.0"
  }
 },
 "nbformat": 4,
 "nbformat_minor": 2
}
