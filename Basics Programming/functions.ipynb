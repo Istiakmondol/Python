{
 "cells": [
  {
   "cell_type": "markdown",
   "metadata": {},
   "source": [
    "Example 1: Temperature Conversion"
   ]
  },
  {
   "cell_type": "code",
   "execution_count": 3,
   "metadata": {},
   "outputs": [
    {
     "name": "stdout",
     "output_type": "stream",
     "text": [
      "77.0\n",
      "25.0\n"
     ]
    }
   ],
   "source": [
    "def convt_temp(temp,unit):\n",
    "    #This function convert temperature between celsius and fahrenheit\n",
    "    if unit=='c':\n",
    "        return temp*9/5 + 32\n",
    "    elif unit=='f':\n",
    "        return (temp-32)*5/9\n",
    "    else:\n",
    "        return None\n",
    "    \n",
    "print(convt_temp(25,'c'))\n",
    "print(convt_temp(77,'f'))"
   ]
  },
  {
   "cell_type": "markdown",
   "metadata": {},
   "source": [
    "Example 2: Password Strength Checker"
   ]
  },
  {
   "cell_type": "code",
   "execution_count": 10,
   "metadata": {},
   "outputs": [
    {
     "name": "stdout",
     "output_type": "stream",
     "text": [
      "True\n"
     ]
    }
   ],
   "source": [
    "def is_pass_strong(password):\n",
    "    #This function will check if the password is strong or not\n",
    "    if len(password)<8:\n",
    "        return False\n",
    "    elif not any(i.isdigit() for i in password):\n",
    "        return False\n",
    "    elif not any(i.islower() for i in password):\n",
    "        return False\n",
    "    elif not any(i.isupper() for i in password):\n",
    "        return False\n",
    "    elif not any(i in '!@#$%^&*()_+'  for i in password):\n",
    "        return False\n",
    "    else:\n",
    "        return True\n",
    "    \n",
    "print(is_pass_strong(\"passworD123!\"))"
   ]
  },
  {
   "cell_type": "markdown",
   "metadata": {},
   "source": [
    "Example 3: Calculate the total cost of items in a shopping cart"
   ]
  },
  {
   "cell_type": "code",
   "execution_count": 11,
   "metadata": {},
   "outputs": [
    {
     "name": "stdout",
     "output_type": "stream",
     "text": [
      "Apple is 5p x 20 =100\n",
      "Orange is 10p x 15 =150\n",
      "Watermallon is 2p x 50 =100\n",
      "Total cost of the cart is 350\n"
     ]
    }
   ],
   "source": [
    "def total_cost_of_cart(cart):\n",
    "    total=0\n",
    "    for i in cart:\n",
    "        print(f\"{i['name']} is {i['quantity']}p x {i['unit_price']} ={i['quantity'] * i['unit_price']}\")\n",
    "        total=total+(i['quantity']*i['unit_price'])\n",
    "    return total\n",
    "\n",
    "def main ():\n",
    "    cart=[\n",
    "        {'name': 'Apple', 'unit_price': 20, 'quantity':5},\n",
    "        {'name': 'Orange', 'unit_price': 15, 'quantity':10},\n",
    "        {'name': 'Watermallon', 'unit_price': 50, 'quantity':2},\n",
    "    ]\n",
    "    cost=total_cost_of_cart(cart)\n",
    "    print(f\"Total cost of the cart is {cost}\")\n",
    "if __name__ == \"__main__\":\n",
    "    main()"
   ]
  },
  {
   "cell_type": "markdown",
   "metadata": {},
   "source": [
    "Example 4: Check if a string is Palindrome"
   ]
  },
  {
   "cell_type": "code",
   "execution_count": 31,
   "metadata": {},
   "outputs": [
    {
     "name": "stdout",
     "output_type": "stream",
     "text": [
      "True\n",
      "False\n"
     ]
    }
   ],
   "source": [
    "def is_palindrome (s):\n",
    "    s=s.lower().replace(\" \", \"\")\n",
    "    s2=s[::-1]\n",
    "    n=0\n",
    "    for i,j in zip(s,s2):\n",
    "        if i==j:\n",
    "            n+=1\n",
    "        else:\n",
    "            return False\n",
    "            break\n",
    "    if n==len(s):\n",
    "        return True\n",
    "    \n",
    "print(is_palindrome (\"A man a plan a canal panama\"))\n",
    "print(is_palindrome (\"A man a plan a canal\"))"
   ]
  },
  {
   "cell_type": "code",
   "execution_count": 36,
   "metadata": {},
   "outputs": [
    {
     "name": "stdout",
     "output_type": "stream",
     "text": [
      "False\n"
     ]
    }
   ],
   "source": [
    "def is_palindrom(s1):\n",
    "    s1=s1.lower()\n",
    "    s1=s1.replace(\" \", \"\")\n",
    "    return s1==s1[::-1]\n",
    "print(is_palindrom(\" man a plan a canal panama\"))"
   ]
  }
 ],
 "metadata": {
  "kernelspec": {
   "display_name": "Python 3",
   "language": "python",
   "name": "python3"
  },
  "language_info": {
   "codemirror_mode": {
    "name": "ipython",
    "version": 3
   },
   "file_extension": ".py",
   "mimetype": "text/x-python",
   "name": "python",
   "nbconvert_exporter": "python",
   "pygments_lexer": "ipython3",
   "version": "3.12.0"
  }
 },
 "nbformat": 4,
 "nbformat_minor": 2
}
