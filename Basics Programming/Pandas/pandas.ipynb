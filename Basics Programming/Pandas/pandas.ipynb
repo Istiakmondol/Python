{
 "cells": [
  {
   "cell_type": "markdown",
   "id": "f488a035",
   "metadata": {},
   "source": [
    "# pandas\n",
    "It provides two primary data structures: Series ans Data Frame"
   ]
  },
  {
   "cell_type": "code",
   "execution_count": 1,
   "id": "5f5a3a56",
   "metadata": {},
   "outputs": [
    {
     "name": "stdout",
     "output_type": "stream",
     "text": [
      "Collecting pandas\n",
      "  Downloading pandas-2.2.3-cp312-cp312-win_amd64.whl.metadata (19 kB)\n",
      "Requirement already satisfied: numpy>=1.26.0 in c:\\users\\mmond\\venv\\lib\\site-packages (from pandas) (2.2.4)\n",
      "Requirement already satisfied: python-dateutil>=2.8.2 in c:\\users\\mmond\\venv\\lib\\site-packages (from pandas) (2.9.0.post0)\n",
      "Collecting pytz>=2020.1 (from pandas)\n",
      "  Downloading pytz-2025.2-py2.py3-none-any.whl.metadata (22 kB)\n",
      "Collecting tzdata>=2022.7 (from pandas)\n",
      "  Downloading tzdata-2025.2-py2.py3-none-any.whl.metadata (1.4 kB)\n",
      "Requirement already satisfied: six>=1.5 in c:\\users\\mmond\\venv\\lib\\site-packages (from python-dateutil>=2.8.2->pandas) (1.17.0)\n",
      "Downloading pandas-2.2.3-cp312-cp312-win_amd64.whl (11.5 MB)\n",
      "   ---------------------------------------- 0.0/11.5 MB ? eta -:--:--\n",
      "   ---------------------------------------- 0.0/11.5 MB ? eta -:--:--\n",
      "   ---------------------------------------- 0.0/11.5 MB ? eta -:--:--\n",
      "   ---------------------------------------- 0.0/11.5 MB ? eta -:--:--\n",
      "   ---------------------------------------- 0.0/11.5 MB ? eta -:--:--\n",
      "   ---------------------------------------- 0.0/11.5 MB ? eta -:--:--\n",
      "   ---------------------------------------- 0.0/11.5 MB ? eta -:--:--\n",
      "   ---------------------------------------- 0.0/11.5 MB ? eta -:--:--\n",
      "   ---------------------------------------- 0.0/11.5 MB ? eta -:--:--\n",
      "   ---------------------------------------- 0.0/11.5 MB ? eta -:--:--\n",
      "   ---------------------------------------- 0.0/11.5 MB ? eta -:--:--\n",
      "   ---------------------------------------- 0.0/11.5 MB ? eta -:--:--\n",
      "    --------------------------------------- 0.3/11.5 MB ? eta -:--:--\n",
      "    --------------------------------------- 0.3/11.5 MB ? eta -:--:--\n",
      "    --------------------------------------- 0.3/11.5 MB ? eta -:--:--\n",
      "   - -------------------------------------- 0.5/11.5 MB 342.2 kB/s eta 0:00:33\n",
      "   - -------------------------------------- 0.5/11.5 MB 342.2 kB/s eta 0:00:33\n",
      "   - -------------------------------------- 0.5/11.5 MB 342.2 kB/s eta 0:00:33\n",
      "   - -------------------------------------- 0.5/11.5 MB 342.2 kB/s eta 0:00:33\n",
      "   - -------------------------------------- 0.5/11.5 MB 342.2 kB/s eta 0:00:33\n",
      "   - -------------------------------------- 0.5/11.5 MB 342.2 kB/s eta 0:00:33\n",
      "   - -------------------------------------- 0.5/11.5 MB 342.2 kB/s eta 0:00:33\n",
      "   - -------------------------------------- 0.5/11.5 MB 342.2 kB/s eta 0:00:33\n",
      "   - -------------------------------------- 0.5/11.5 MB 342.2 kB/s eta 0:00:33\n",
      "   -- ------------------------------------- 0.8/11.5 MB 202.1 kB/s eta 0:00:54\n",
      "   -- ------------------------------------- 0.8/11.5 MB 202.1 kB/s eta 0:00:54\n",
      "   --- ------------------------------------ 1.0/11.5 MB 255.5 kB/s eta 0:00:41\n",
      "   ---- ----------------------------------- 1.3/11.5 MB 322.6 kB/s eta 0:00:32\n",
      "   ----- ---------------------------------- 1.6/11.5 MB 371.1 kB/s eta 0:00:27\n",
      "   ------ --------------------------------- 1.8/11.5 MB 410.9 kB/s eta 0:00:24\n",
      "   ------- -------------------------------- 2.1/11.5 MB 456.9 kB/s eta 0:00:21\n",
      "   -------- ------------------------------- 2.4/11.5 MB 497.1 kB/s eta 0:00:19\n",
      "   --------- ------------------------------ 2.6/11.5 MB 541.1 kB/s eta 0:00:17\n",
      "   ---------- ----------------------------- 2.9/11.5 MB 564.8 kB/s eta 0:00:16\n",
      "   ---------- ----------------------------- 3.1/11.5 MB 595.3 kB/s eta 0:00:15\n",
      "   ----------- ---------------------------- 3.4/11.5 MB 623.3 kB/s eta 0:00:13\n",
      "   ------------ --------------------------- 3.7/11.5 MB 647.1 kB/s eta 0:00:13\n",
      "   ------------- -------------------------- 3.9/11.5 MB 659.7 kB/s eta 0:00:12\n",
      "   -------------- ------------------------- 4.2/11.5 MB 691.3 kB/s eta 0:00:11\n",
      "   --------------- ------------------------ 4.5/11.5 MB 712.0 kB/s eta 0:00:10\n",
      "   ---------------- ----------------------- 4.7/11.5 MB 733.2 kB/s eta 0:00:10\n",
      "   ----------------- ---------------------- 5.0/11.5 MB 740.2 kB/s eta 0:00:09\n",
      "   ------------------ --------------------- 5.2/11.5 MB 764.4 kB/s eta 0:00:09\n",
      "   ------------------- -------------------- 5.5/11.5 MB 782.2 kB/s eta 0:00:08\n",
      "   -------------------- ------------------- 5.8/11.5 MB 797.0 kB/s eta 0:00:08\n",
      "   -------------------- ------------------- 6.0/11.5 MB 813.0 kB/s eta 0:00:07\n",
      "   --------------------- ------------------ 6.3/11.5 MB 814.0 kB/s eta 0:00:07\n",
      "   ---------------------- ----------------- 6.6/11.5 MB 833.6 kB/s eta 0:00:06\n",
      "   ----------------------- ---------------- 6.8/11.5 MB 849.0 kB/s eta 0:00:06\n",
      "   ------------------------ --------------- 7.1/11.5 MB 847.0 kB/s eta 0:00:06\n",
      "   ------------------------- -------------- 7.3/11.5 MB 859.5 kB/s eta 0:00:05\n",
      "   -------------------------- ------------- 7.6/11.5 MB 869.9 kB/s eta 0:00:05\n",
      "   --------------------------- ------------ 7.9/11.5 MB 876.6 kB/s eta 0:00:05\n",
      "   ---------------------------- ----------- 8.1/11.5 MB 879.9 kB/s eta 0:00:04\n",
      "   ---------------------------- ----------- 8.1/11.5 MB 879.9 kB/s eta 0:00:04\n",
      "   ---------------------------- ----------- 8.1/11.5 MB 879.9 kB/s eta 0:00:04\n",
      "   ---------------------------- ----------- 8.1/11.5 MB 879.9 kB/s eta 0:00:04\n",
      "   ----------------------------- ---------- 8.4/11.5 MB 834.8 kB/s eta 0:00:04\n",
      "   ----------------------------- ---------- 8.4/11.5 MB 834.8 kB/s eta 0:00:04\n",
      "   ----------------------------- ---------- 8.4/11.5 MB 834.8 kB/s eta 0:00:04\n",
      "   ----------------------------- ---------- 8.4/11.5 MB 834.8 kB/s eta 0:00:04\n",
      "   ----------------------------- ---------- 8.4/11.5 MB 834.8 kB/s eta 0:00:04\n",
      "   ----------------------------- ---------- 8.4/11.5 MB 834.8 kB/s eta 0:00:04\n",
      "   ----------------------------- ---------- 8.4/11.5 MB 834.8 kB/s eta 0:00:04\n",
      "   ----------------------------- ---------- 8.4/11.5 MB 834.8 kB/s eta 0:00:04\n",
      "   ----------------------------- ---------- 8.4/11.5 MB 834.8 kB/s eta 0:00:04\n",
      "   ------------------------------ --------- 8.7/11.5 MB 716.8 kB/s eta 0:00:04\n",
      "   ------------------------------ --------- 8.7/11.5 MB 716.8 kB/s eta 0:00:04\n",
      "   ------------------------------ --------- 8.7/11.5 MB 716.8 kB/s eta 0:00:04\n",
      "   ------------------------------ --------- 8.7/11.5 MB 716.8 kB/s eta 0:00:04\n",
      "   ------------------------------ --------- 8.9/11.5 MB 692.1 kB/s eta 0:00:04\n",
      "   ------------------------------- -------- 9.2/11.5 MB 700.8 kB/s eta 0:00:04\n",
      "   -------------------------------- ------- 9.4/11.5 MB 709.2 kB/s eta 0:00:03\n",
      "   --------------------------------- ------ 9.7/11.5 MB 713.9 kB/s eta 0:00:03\n",
      "   --------------------------------- ------ 9.7/11.5 MB 713.9 kB/s eta 0:00:03\n",
      "   --------------------------------- ------ 9.7/11.5 MB 713.9 kB/s eta 0:00:03\n",
      "   ---------------------------------- ----- 10.0/11.5 MB 705.4 kB/s eta 0:00:03\n",
      "   ----------------------------------- ---- 10.2/11.5 MB 713.1 kB/s eta 0:00:02\n",
      "   ----------------------------------- ---- 10.2/11.5 MB 713.1 kB/s eta 0:00:02\n",
      "   ----------------------------------- ---- 10.2/11.5 MB 713.1 kB/s eta 0:00:02\n",
      "   ----------------------------------- ---- 10.2/11.5 MB 713.1 kB/s eta 0:00:02\n",
      "   ----------------------------------- ---- 10.2/11.5 MB 713.1 kB/s eta 0:00:02\n",
      "   ----------------------------------- ---- 10.2/11.5 MB 713.1 kB/s eta 0:00:02\n",
      "   ----------------------------------- ---- 10.2/11.5 MB 713.1 kB/s eta 0:00:02\n",
      "   ----------------------------------- ---- 10.2/11.5 MB 713.1 kB/s eta 0:00:02\n",
      "   ----------------------------------- ---- 10.2/11.5 MB 713.1 kB/s eta 0:00:02\n",
      "   ----------------------------------- ---- 10.2/11.5 MB 713.1 kB/s eta 0:00:02\n",
      "   ----------------------------------- ---- 10.2/11.5 MB 713.1 kB/s eta 0:00:02\n",
      "   ----------------------------------- ---- 10.2/11.5 MB 713.1 kB/s eta 0:00:02\n",
      "   ----------------------------------- ---- 10.2/11.5 MB 713.1 kB/s eta 0:00:02\n",
      "   ----------------------------------- ---- 10.2/11.5 MB 713.1 kB/s eta 0:00:02\n",
      "   ------------------------------------ --- 10.5/11.5 MB 603.1 kB/s eta 0:00:02\n",
      "   ------------------------------------ --- 10.5/11.5 MB 603.1 kB/s eta 0:00:02\n",
      "   ------------------------------------- -- 10.7/11.5 MB 600.2 kB/s eta 0:00:02\n",
      "   ------------------------------------- -- 10.7/11.5 MB 600.2 kB/s eta 0:00:02\n",
      "   -------------------------------------- - 11.0/11.5 MB 601.8 kB/s eta 0:00:01\n",
      "   -------------------------------------- - 11.0/11.5 MB 601.8 kB/s eta 0:00:01\n",
      "   ---------------------------------------  11.3/11.5 MB 605.3 kB/s eta 0:00:01\n",
      "   ---------------------------------------- 11.5/11.5 MB 610.8 kB/s eta 0:00:00\n",
      "Downloading pytz-2025.2-py2.py3-none-any.whl (509 kB)\n",
      "Downloading tzdata-2025.2-py2.py3-none-any.whl (347 kB)\n",
      "Installing collected packages: pytz, tzdata, pandas\n",
      "Successfully installed pandas-2.2.3 pytz-2025.2 tzdata-2025.2\n",
      "Note: you may need to restart the kernel to use updated packages.\n"
     ]
    }
   ],
   "source": [
    "pip install pandas"
   ]
  },
  {
   "cell_type": "code",
   "execution_count": 2,
   "id": "a432783e",
   "metadata": {},
   "outputs": [],
   "source": [
    "import pandas as pd"
   ]
  },
  {
   "cell_type": "markdown",
   "id": "dda1e97c",
   "metadata": {},
   "source": [
    "# Series\n",
    "A panda series is a one dimensional array-like object that can hold any dtaa type. It is similar tot a column in a table."
   ]
  },
  {
   "cell_type": "code",
   "execution_count": 2,
   "id": "9e09522e",
   "metadata": {},
   "outputs": [
    {
     "name": "stdout",
     "output_type": "stream",
     "text": [
      "Series: \n",
      " 0    1\n",
      "1    2\n",
      "2    3\n",
      "3    4\n",
      "4    5\n",
      "dtype: int64\n"
     ]
    }
   ],
   "source": [
    "data=[1,2,3,4,5]\n",
    "series=pd.Series(data)\n",
    "print(\"Series: \\n\",series)"
   ]
  },
  {
   "cell_type": "markdown",
   "id": "f0af970c",
   "metadata": {},
   "source": [
    "Creat a series from dictionary"
   ]
  },
  {
   "cell_type": "code",
   "execution_count": 3,
   "id": "c897a5b4",
   "metadata": {},
   "outputs": [
    {
     "name": "stdout",
     "output_type": "stream",
     "text": [
      "a    1\n",
      "b    2\n",
      "c    3\n",
      "dtype: int64\n"
     ]
    }
   ],
   "source": [
    "data={'a':1,'b':2,'c':3}\n",
    "series_data=pd.Series(data)\n",
    "print(series_data)"
   ]
  },
  {
   "cell_type": "code",
   "execution_count": 4,
   "id": "dd026dd4",
   "metadata": {},
   "outputs": [
    {
     "name": "stdout",
     "output_type": "stream",
     "text": [
      "a    10\n",
      "b    20\n",
      "c    30\n",
      "dtype: int64\n"
     ]
    }
   ],
   "source": [
    "data=[10,20,30]\n",
    "index=['a','b','c']\n",
    "seris=pd.Series(data,index=index)\n",
    "print(seris)"
   ]
  },
  {
   "cell_type": "markdown",
   "id": "5eddefd3",
   "metadata": {},
   "source": [
    "# Dataframe\n",
    "create a dataframe from a dictionary of list"
   ]
  },
  {
   "cell_type": "code",
   "execution_count": 5,
   "id": "6f9db1a1",
   "metadata": {},
   "outputs": [
    {
     "name": "stdout",
     "output_type": "stream",
     "text": [
      "     name  age      city\n",
      "0  Istiak   25     Dhaka\n",
      "1    John   27  Dinazpur\n",
      "2    Jack   28   Germany\n"
     ]
    }
   ],
   "source": [
    "data={'name':['Istiak','John','Jack'],\n",
    "      'age':[25,27,28],\n",
    "      'city':['Dhaka','Dinazpur','Germany']\n",
    "      }\n",
    "data_frame=pd.DataFrame(data)\n",
    "print(data_frame)"
   ]
  },
  {
   "cell_type": "code",
   "execution_count": 6,
   "id": "0554236b",
   "metadata": {},
   "outputs": [
    {
     "name": "stdout",
     "output_type": "stream",
     "text": [
      "Series: \n",
      " 0    1\n",
      "1    2\n",
      "2    3\n",
      "3    4\n",
      "4    5\n",
      "dtype: int64\n"
     ]
    }
   ],
   "source": [
    "data=[1,2,3,4,5]\n",
    "series=pd.Series(data)\n",
    "print(\"Series: \\n\",series)"
   ]
  },
  {
   "cell_type": "markdown",
   "id": "381cfc43",
   "metadata": {},
   "source": [
    "Create a dataframe from a list of dictionaries"
   ]
  },
  {
   "cell_type": "code",
   "execution_count": 7,
   "id": "cdc15e70",
   "metadata": {},
   "outputs": [
    {
     "name": "stdout",
     "output_type": "stream",
     "text": [
      "<class 'list'>\n",
      "     name  age      city\n",
      "0  Istiak   25     Dhaka\n",
      "1    John   27  Dinazpur\n",
      "2    Jack   28   Germany\n"
     ]
    }
   ],
   "source": [
    "data=[{'name':'Istiak','age':25,'city':'Dhaka'},\n",
    "       {'name':'John','age':27,'city':'Dinazpur'},\n",
    "       {'name':'Jack','age':28,'city':'Germany'}\n",
    "    ]\n",
    "df=pd.DataFrame(data)\n",
    "print(type(data))\n",
    "print(df)\n"
   ]
  },
  {
   "cell_type": "markdown",
   "id": "fb7a7d3c",
   "metadata": {},
   "source": [
    "# Reading from csv file"
   ]
  },
  {
   "cell_type": "code",
   "execution_count": 18,
   "id": "48028c68",
   "metadata": {},
   "outputs": [
    {
     "name": "stdout",
     "output_type": "stream",
     "text": [
      "          Date Category  Value   Product  Sales Region\n",
      "0   2023-01-01        A   28.0  Product1  754.0   East\n",
      "1   2023-01-02        B   39.0  Product3  110.0  North\n",
      "2   2023-01-03        C   32.0  Product2  398.0   East\n",
      "3   2023-01-04        B    8.0  Product1  522.0   East\n",
      "4   2023-01-05        B   26.0  Product3  869.0  North\n",
      "5   2023-01-06        B   54.0  Product3  192.0   West\n",
      "6   2023-01-07        A   16.0  Product1  936.0   East\n",
      "7   2023-01-08        C   89.0  Product1  488.0   West\n",
      "8   2023-01-09        C   37.0  Product3  772.0   West\n",
      "9   2023-01-10        A   22.0  Product2  834.0   West\n",
      "10  2023-01-11        B    7.0  Product1  842.0  North\n",
      "11  2023-01-12        B   60.0  Product2    NaN   West\n",
      "12  2023-01-13        A   70.0  Product3  628.0  South\n",
      "13  2023-01-14        A   69.0  Product1  423.0   East\n",
      "14  2023-01-15        A   47.0  Product2  893.0   West\n",
      "15  2023-01-16        C    NaN  Product1  895.0  North\n",
      "16  2023-01-17        C   93.0  Product2  511.0  South\n",
      "17  2023-01-18        C    NaN  Product1  108.0   West\n",
      "18  2023-01-19        A   31.0  Product2  578.0   West\n",
      "19  2023-01-20        A   59.0  Product1  736.0   East\n",
      "20  2023-01-21        C   82.0  Product3  606.0  South\n",
      "21  2023-01-22        C   37.0  Product2  992.0  South\n",
      "22  2023-01-23        B   62.0  Product3  942.0  North\n",
      "23  2023-01-24        C   92.0  Product2  342.0   West\n",
      "24  2023-01-25        A   24.0  Product2  458.0   East\n",
      "25  2023-01-26        C   95.0  Product1  584.0   West\n",
      "26  2023-01-27        C   71.0  Product2  619.0  North\n",
      "27  2023-01-28        C   56.0  Product2  224.0  North\n",
      "28  2023-01-29        B    NaN  Product3  617.0  North\n",
      "29  2023-01-30        C   51.0  Product2  737.0  South\n",
      "30  2023-01-31        B   50.0  Product3  735.0   West\n",
      "31  2023-02-01        A   17.0  Product2  189.0   West\n",
      "32  2023-02-02        B   63.0  Product3  338.0  South\n",
      "33  2023-02-03        C   27.0  Product3    NaN   East\n",
      "34  2023-02-04        C   70.0  Product3  669.0   West\n",
      "35  2023-02-05        B   60.0  Product2    NaN   West\n",
      "36  2023-02-06        C   36.0  Product3  177.0   East\n",
      "37  2023-02-07        C    2.0  Product1    NaN  North\n",
      "38  2023-02-08        C   94.0  Product1  408.0  South\n",
      "39  2023-02-09        A   62.0  Product1  155.0   West\n",
      "40  2023-02-10        B   15.0  Product1  578.0   East\n",
      "41  2023-02-11        C   97.0  Product1  256.0   East\n",
      "42  2023-02-12        A   93.0  Product3  164.0   West\n",
      "43  2023-02-13        A   43.0  Product3  949.0   East\n",
      "44  2023-02-14        A   96.0  Product3  830.0   East\n",
      "45  2023-02-15        B   99.0  Product2  599.0   West\n",
      "46  2023-02-16        B    6.0  Product1  938.0  South\n",
      "47  2023-02-17        B   69.0  Product3  143.0   West\n",
      "48  2023-02-18        C   65.0  Product3  182.0  North\n",
      "49  2023-02-19        C   11.0  Product3  708.0  North\n"
     ]
    }
   ],
   "source": [
    "df=pd.read_csv('sales_data.csv')\n",
    "print(df)"
   ]
  },
  {
   "cell_type": "markdown",
   "id": "ba6ca02f",
   "metadata": {},
   "source": [
    "First 5 lines from the csv file"
   ]
  },
  {
   "cell_type": "code",
   "execution_count": 16,
   "id": "760ca3c5",
   "metadata": {},
   "outputs": [
    {
     "data": {
      "text/html": [
       "<div>\n",
       "<style scoped>\n",
       "    .dataframe tbody tr th:only-of-type {\n",
       "        vertical-align: middle;\n",
       "    }\n",
       "\n",
       "    .dataframe tbody tr th {\n",
       "        vertical-align: top;\n",
       "    }\n",
       "\n",
       "    .dataframe thead th {\n",
       "        text-align: right;\n",
       "    }\n",
       "</style>\n",
       "<table border=\"1\" class=\"dataframe\">\n",
       "  <thead>\n",
       "    <tr style=\"text-align: right;\">\n",
       "      <th></th>\n",
       "      <th>Date</th>\n",
       "      <th>Category</th>\n",
       "      <th>Value</th>\n",
       "      <th>Product</th>\n",
       "      <th>Sales</th>\n",
       "      <th>Region</th>\n",
       "    </tr>\n",
       "  </thead>\n",
       "  <tbody>\n",
       "    <tr>\n",
       "      <th>0</th>\n",
       "      <td>2023-01-01</td>\n",
       "      <td>A</td>\n",
       "      <td>28.0</td>\n",
       "      <td>Product1</td>\n",
       "      <td>754.0</td>\n",
       "      <td>East</td>\n",
       "    </tr>\n",
       "    <tr>\n",
       "      <th>1</th>\n",
       "      <td>2023-01-02</td>\n",
       "      <td>B</td>\n",
       "      <td>39.0</td>\n",
       "      <td>Product3</td>\n",
       "      <td>110.0</td>\n",
       "      <td>North</td>\n",
       "    </tr>\n",
       "    <tr>\n",
       "      <th>2</th>\n",
       "      <td>2023-01-03</td>\n",
       "      <td>C</td>\n",
       "      <td>32.0</td>\n",
       "      <td>Product2</td>\n",
       "      <td>398.0</td>\n",
       "      <td>East</td>\n",
       "    </tr>\n",
       "    <tr>\n",
       "      <th>3</th>\n",
       "      <td>2023-01-04</td>\n",
       "      <td>B</td>\n",
       "      <td>8.0</td>\n",
       "      <td>Product1</td>\n",
       "      <td>522.0</td>\n",
       "      <td>East</td>\n",
       "    </tr>\n",
       "    <tr>\n",
       "      <th>4</th>\n",
       "      <td>2023-01-05</td>\n",
       "      <td>B</td>\n",
       "      <td>26.0</td>\n",
       "      <td>Product3</td>\n",
       "      <td>869.0</td>\n",
       "      <td>North</td>\n",
       "    </tr>\n",
       "  </tbody>\n",
       "</table>\n",
       "</div>"
      ],
      "text/plain": [
       "         Date Category  Value   Product  Sales Region\n",
       "0  2023-01-01        A   28.0  Product1  754.0   East\n",
       "1  2023-01-02        B   39.0  Product3  110.0  North\n",
       "2  2023-01-03        C   32.0  Product2  398.0   East\n",
       "3  2023-01-04        B    8.0  Product1  522.0   East\n",
       "4  2023-01-05        B   26.0  Product3  869.0  North"
      ]
     },
     "execution_count": 16,
     "metadata": {},
     "output_type": "execute_result"
    }
   ],
   "source": [
    "df=pd.read_csv('sales_data.csv')\n",
    "df.head(5)"
   ]
  },
  {
   "cell_type": "markdown",
   "id": "0e0375ca",
   "metadata": {},
   "source": [
    "Last 5 lines from the csv file"
   ]
  },
  {
   "cell_type": "code",
   "execution_count": 15,
   "id": "8a7badde",
   "metadata": {},
   "outputs": [
    {
     "data": {
      "text/html": [
       "<div>\n",
       "<style scoped>\n",
       "    .dataframe tbody tr th:only-of-type {\n",
       "        vertical-align: middle;\n",
       "    }\n",
       "\n",
       "    .dataframe tbody tr th {\n",
       "        vertical-align: top;\n",
       "    }\n",
       "\n",
       "    .dataframe thead th {\n",
       "        text-align: right;\n",
       "    }\n",
       "</style>\n",
       "<table border=\"1\" class=\"dataframe\">\n",
       "  <thead>\n",
       "    <tr style=\"text-align: right;\">\n",
       "      <th></th>\n",
       "      <th>Date</th>\n",
       "      <th>Category</th>\n",
       "      <th>Value</th>\n",
       "      <th>Product</th>\n",
       "      <th>Sales</th>\n",
       "      <th>Region</th>\n",
       "    </tr>\n",
       "  </thead>\n",
       "  <tbody>\n",
       "    <tr>\n",
       "      <th>45</th>\n",
       "      <td>2023-02-15</td>\n",
       "      <td>B</td>\n",
       "      <td>99.0</td>\n",
       "      <td>Product2</td>\n",
       "      <td>599.0</td>\n",
       "      <td>West</td>\n",
       "    </tr>\n",
       "    <tr>\n",
       "      <th>46</th>\n",
       "      <td>2023-02-16</td>\n",
       "      <td>B</td>\n",
       "      <td>6.0</td>\n",
       "      <td>Product1</td>\n",
       "      <td>938.0</td>\n",
       "      <td>South</td>\n",
       "    </tr>\n",
       "    <tr>\n",
       "      <th>47</th>\n",
       "      <td>2023-02-17</td>\n",
       "      <td>B</td>\n",
       "      <td>69.0</td>\n",
       "      <td>Product3</td>\n",
       "      <td>143.0</td>\n",
       "      <td>West</td>\n",
       "    </tr>\n",
       "    <tr>\n",
       "      <th>48</th>\n",
       "      <td>2023-02-18</td>\n",
       "      <td>C</td>\n",
       "      <td>65.0</td>\n",
       "      <td>Product3</td>\n",
       "      <td>182.0</td>\n",
       "      <td>North</td>\n",
       "    </tr>\n",
       "    <tr>\n",
       "      <th>49</th>\n",
       "      <td>2023-02-19</td>\n",
       "      <td>C</td>\n",
       "      <td>11.0</td>\n",
       "      <td>Product3</td>\n",
       "      <td>708.0</td>\n",
       "      <td>North</td>\n",
       "    </tr>\n",
       "  </tbody>\n",
       "</table>\n",
       "</div>"
      ],
      "text/plain": [
       "          Date Category  Value   Product  Sales Region\n",
       "45  2023-02-15        B   99.0  Product2  599.0   West\n",
       "46  2023-02-16        B    6.0  Product1  938.0  South\n",
       "47  2023-02-17        B   69.0  Product3  143.0   West\n",
       "48  2023-02-18        C   65.0  Product3  182.0  North\n",
       "49  2023-02-19        C   11.0  Product3  708.0  North"
      ]
     },
     "execution_count": 15,
     "metadata": {},
     "output_type": "execute_result"
    }
   ],
   "source": [
    "df=pd.read_csv('sales_data.csv')\n",
    "df.tail(5)"
   ]
  },
  {
   "cell_type": "markdown",
   "id": "57134170",
   "metadata": {},
   "source": [
    "Accessing data from dataframe"
   ]
  },
  {
   "cell_type": "code",
   "execution_count": null,
   "id": "d15b3832",
   "metadata": {},
   "outputs": [
    {
     "name": "stdout",
     "output_type": "stream",
     "text": [
      "     name  age      city\n",
      "0  Istiak   25     Dhaka\n",
      "1    John   27  Dinazpur\n",
      "2    Jack   28   Germany\n",
      "\n",
      "0    Istiak\n",
      "1      John\n",
      "2      Jack\n",
      "Name: name, dtype: object\n",
      "\n",
      "0       Dhaka\n",
      "1    Dinazpur\n",
      "2     Germany\n",
      "Name: city, dtype: object\n"
     ]
    }
   ],
   "source": [
    "data={'name':['Istiak','John','Jack'],\n",
    "      'age':[25,27,28],\n",
    "      'city':['Dhaka','Dinazpur','Germany']\n",
    "      }\n",
    "df=pd.DataFrame(data)\n",
    "print(df)\n",
    "print()\n",
    "print(df['name'])"
   ]
  },
  {
   "cell_type": "markdown",
   "id": "79cc12c5",
   "metadata": {},
   "source": [
    "df.loc [ ] Operation"
   ]
  },
  {
   "cell_type": "code",
   "execution_count": 54,
   "id": "ed4841b6",
   "metadata": {},
   "outputs": [
    {
     "name": "stdout",
     "output_type": "stream",
     "text": [
      "     name  age      city\n",
      "0  Istiak   25     Dhaka\n",
      "1    John   27  Dinazpur\n",
      "2    Jack   28   Germany\n",
      "\n",
      "name        John\n",
      "age           27\n",
      "city    Dinazpur\n",
      "Name: 1, dtype: object\n",
      "\n"
     ]
    },
    {
     "name": "stderr",
     "output_type": "stream",
     "text": [
      "C:\\Users\\mmond\\AppData\\Local\\Temp\\ipykernel_6460\\3609176066.py:10: FutureWarning: Series.__getitem__ treating keys as positions is deprecated. In a future version, integer keys will always be treated as labels (consistent with DataFrame behavior). To access a value by position, use `ser.iloc[pos]`\n",
      "  df.loc[0][2]\n"
     ]
    },
    {
     "data": {
      "text/plain": [
       "'Dhaka'"
      ]
     },
     "execution_count": 54,
     "metadata": {},
     "output_type": "execute_result"
    }
   ],
   "source": [
    "data={'name':['Istiak','John','Jack'],\n",
    "      'age':[25,27,28],\n",
    "      'city':['Dhaka','Dinazpur','Germany']\n",
    "      }\n",
    "df=pd.DataFrame(data)\n",
    "print(df)\n",
    "print()\n",
    "print(df.loc[1])\n",
    "print()\n",
    "df.loc[0][2]"
   ]
  },
  {
   "cell_type": "markdown",
   "id": "b1643b8f",
   "metadata": {},
   "source": [
    "df.iloc [ ] Operation"
   ]
  },
  {
   "cell_type": "code",
   "execution_count": 52,
   "id": "0d67447d",
   "metadata": {},
   "outputs": [
    {
     "name": "stdout",
     "output_type": "stream",
     "text": [
      "     name  age      city\n",
      "0  Istiak   25     Dhaka\n",
      "1    John   27  Dinazpur\n",
      "2    Jack   28   Germany\n",
      "\n",
      "name        John\n",
      "age           27\n",
      "city    Dinazpur\n",
      "Name: 1, dtype: object\n",
      "\n"
     ]
    },
    {
     "name": "stderr",
     "output_type": "stream",
     "text": [
      "C:\\Users\\mmond\\AppData\\Local\\Temp\\ipykernel_6460\\3925078486.py:10: FutureWarning: Series.__getitem__ treating keys as positions is deprecated. In a future version, integer keys will always be treated as labels (consistent with DataFrame behavior). To access a value by position, use `ser.iloc[pos]`\n",
      "  df.iloc[1][2]\n"
     ]
    },
    {
     "data": {
      "text/plain": [
       "'Dinazpur'"
      ]
     },
     "execution_count": 52,
     "metadata": {},
     "output_type": "execute_result"
    }
   ],
   "source": [
    "data={'name':['Istiak','John','Jack'],\n",
    "      'age':[25,27,28],\n",
    "      'city':['Dhaka','Dinazpur','Germany']\n",
    "      }\n",
    "df=pd.DataFrame(data)\n",
    "print(df)\n",
    "print()\n",
    "print(df.iloc[1])\n",
    "print()\n",
    "df.iloc[1][2]"
   ]
  },
  {
   "cell_type": "markdown",
   "id": "01fc2102",
   "metadata": {},
   "source": [
    "Accessing a specified element using \"df.at [ int, 'attribute' ]\""
   ]
  },
  {
   "cell_type": "code",
   "execution_count": 58,
   "id": "da517ebb",
   "metadata": {},
   "outputs": [
    {
     "name": "stdout",
     "output_type": "stream",
     "text": [
      "     name  age      city\n",
      "0  Istiak   25     Dhaka\n",
      "1    John   27  Dinazpur\n",
      "2    Jack   28   Germany\n",
      "\n",
      "Germany\n",
      "\n",
      "27\n",
      "None\n"
     ]
    }
   ],
   "source": [
    "data={'name':['Istiak','John','Jack'],\n",
    "      'age':[25,27,28],\n",
    "      'city':['Dhaka','Dinazpur','Germany']\n",
    "      }\n",
    "df=pd.DataFrame(data)\n",
    "print(df)\n",
    "print()\n",
    "print(df.at[2,'city'])\n",
    "print()\n",
    "print(print(df.at[1,'age']))"
   ]
  },
  {
   "cell_type": "markdown",
   "id": "8adb5fe1",
   "metadata": {},
   "source": [
    "Accessing a specified element using \"df.iat [ int, int ]\""
   ]
  },
  {
   "cell_type": "code",
   "execution_count": 60,
   "id": "3c1ad960",
   "metadata": {},
   "outputs": [
    {
     "name": "stdout",
     "output_type": "stream",
     "text": [
      "     name  age      city\n",
      "0  Istiak   25     Dhaka\n",
      "1    John   27  Dinazpur\n",
      "2    Jack   28   Germany\n",
      "\n",
      "Germany\n",
      "\n",
      "John\n",
      "None\n"
     ]
    }
   ],
   "source": [
    "data={'name':['Istiak','John','Jack'],\n",
    "      'age':[25,27,28],\n",
    "      'city':['Dhaka','Dinazpur','Germany']\n",
    "      }\n",
    "df=pd.DataFrame(data)\n",
    "print(df)\n",
    "print()\n",
    "print(df.iat[2,2])\n",
    "print()\n",
    "print(print(df.iat[1,0]))"
   ]
  },
  {
   "cell_type": "markdown",
   "id": "043077e9",
   "metadata": {},
   "source": [
    "# Data Manipulation\n",
    "Adding a column"
   ]
  },
  {
   "cell_type": "code",
   "execution_count": 89,
   "id": "ac931bb0",
   "metadata": {},
   "outputs": [
    {
     "data": {
      "text/html": [
       "<div>\n",
       "<style scoped>\n",
       "    .dataframe tbody tr th:only-of-type {\n",
       "        vertical-align: middle;\n",
       "    }\n",
       "\n",
       "    .dataframe tbody tr th {\n",
       "        vertical-align: top;\n",
       "    }\n",
       "\n",
       "    .dataframe thead th {\n",
       "        text-align: right;\n",
       "    }\n",
       "</style>\n",
       "<table border=\"1\" class=\"dataframe\">\n",
       "  <thead>\n",
       "    <tr style=\"text-align: right;\">\n",
       "      <th></th>\n",
       "      <th>name</th>\n",
       "      <th>age</th>\n",
       "      <th>city</th>\n",
       "      <th>salary</th>\n",
       "    </tr>\n",
       "  </thead>\n",
       "  <tbody>\n",
       "    <tr>\n",
       "      <th>0</th>\n",
       "      <td>Istiak</td>\n",
       "      <td>25</td>\n",
       "      <td>Dhaka</td>\n",
       "      <td>20000</td>\n",
       "    </tr>\n",
       "    <tr>\n",
       "      <th>1</th>\n",
       "      <td>John</td>\n",
       "      <td>27</td>\n",
       "      <td>Dinazpur</td>\n",
       "      <td>30000</td>\n",
       "    </tr>\n",
       "    <tr>\n",
       "      <th>2</th>\n",
       "      <td>Jack</td>\n",
       "      <td>28</td>\n",
       "      <td>Germany</td>\n",
       "      <td>50000</td>\n",
       "    </tr>\n",
       "  </tbody>\n",
       "</table>\n",
       "</div>"
      ],
      "text/plain": [
       "     name  age      city  salary\n",
       "0  Istiak   25     Dhaka   20000\n",
       "1    John   27  Dinazpur   30000\n",
       "2    Jack   28   Germany   50000"
      ]
     },
     "execution_count": 89,
     "metadata": {},
     "output_type": "execute_result"
    }
   ],
   "source": [
    "data={'name':['Istiak','John','Jack'],\n",
    "      'age':[25,27,28],\n",
    "      'city':['Dhaka','Dinazpur','Germany']\n",
    "      }\n",
    "df=pd.DataFrame(data)\n",
    "df['salary']=[20000,30000,50000]\n",
    "df"
   ]
  },
  {
   "cell_type": "markdown",
   "id": "4c93b5c2",
   "metadata": {},
   "source": [
    "It drops a column temporarily by using \"df.drop('obg',axis=int)\" "
   ]
  },
  {
   "cell_type": "code",
   "execution_count": null,
   "id": "6a124eb9",
   "metadata": {},
   "outputs": [
    {
     "data": {
      "text/html": [
       "<div>\n",
       "<style scoped>\n",
       "    .dataframe tbody tr th:only-of-type {\n",
       "        vertical-align: middle;\n",
       "    }\n",
       "\n",
       "    .dataframe tbody tr th {\n",
       "        vertical-align: top;\n",
       "    }\n",
       "\n",
       "    .dataframe thead th {\n",
       "        text-align: right;\n",
       "    }\n",
       "</style>\n",
       "<table border=\"1\" class=\"dataframe\">\n",
       "  <thead>\n",
       "    <tr style=\"text-align: right;\">\n",
       "      <th></th>\n",
       "      <th>name</th>\n",
       "      <th>age</th>\n",
       "      <th>city</th>\n",
       "    </tr>\n",
       "  </thead>\n",
       "  <tbody>\n",
       "    <tr>\n",
       "      <th>0</th>\n",
       "      <td>Istiak</td>\n",
       "      <td>25</td>\n",
       "      <td>Dhaka</td>\n",
       "    </tr>\n",
       "    <tr>\n",
       "      <th>1</th>\n",
       "      <td>John</td>\n",
       "      <td>27</td>\n",
       "      <td>Dinazpur</td>\n",
       "    </tr>\n",
       "    <tr>\n",
       "      <th>2</th>\n",
       "      <td>Jack</td>\n",
       "      <td>28</td>\n",
       "      <td>Germany</td>\n",
       "    </tr>\n",
       "  </tbody>\n",
       "</table>\n",
       "</div>"
      ],
      "text/plain": [
       "     name  age      city\n",
       "0  Istiak   25     Dhaka\n",
       "1    John   27  Dinazpur\n",
       "2    Jack   28   Germany"
      ]
     },
     "execution_count": 90,
     "metadata": {},
     "output_type": "execute_result"
    }
   ],
   "source": [
    "df.drop('salary',axis=1)"
   ]
  },
  {
   "cell_type": "code",
   "execution_count": 91,
   "id": "8228707a",
   "metadata": {},
   "outputs": [
    {
     "data": {
      "text/html": [
       "<div>\n",
       "<style scoped>\n",
       "    .dataframe tbody tr th:only-of-type {\n",
       "        vertical-align: middle;\n",
       "    }\n",
       "\n",
       "    .dataframe tbody tr th {\n",
       "        vertical-align: top;\n",
       "    }\n",
       "\n",
       "    .dataframe thead th {\n",
       "        text-align: right;\n",
       "    }\n",
       "</style>\n",
       "<table border=\"1\" class=\"dataframe\">\n",
       "  <thead>\n",
       "    <tr style=\"text-align: right;\">\n",
       "      <th></th>\n",
       "      <th>name</th>\n",
       "      <th>age</th>\n",
       "      <th>city</th>\n",
       "      <th>salary</th>\n",
       "    </tr>\n",
       "  </thead>\n",
       "  <tbody>\n",
       "    <tr>\n",
       "      <th>0</th>\n",
       "      <td>Istiak</td>\n",
       "      <td>25</td>\n",
       "      <td>Dhaka</td>\n",
       "      <td>20000</td>\n",
       "    </tr>\n",
       "    <tr>\n",
       "      <th>1</th>\n",
       "      <td>John</td>\n",
       "      <td>27</td>\n",
       "      <td>Dinazpur</td>\n",
       "      <td>30000</td>\n",
       "    </tr>\n",
       "    <tr>\n",
       "      <th>2</th>\n",
       "      <td>Jack</td>\n",
       "      <td>28</td>\n",
       "      <td>Germany</td>\n",
       "      <td>50000</td>\n",
       "    </tr>\n",
       "  </tbody>\n",
       "</table>\n",
       "</div>"
      ],
      "text/plain": [
       "     name  age      city  salary\n",
       "0  Istiak   25     Dhaka   20000\n",
       "1    John   27  Dinazpur   30000\n",
       "2    Jack   28   Germany   50000"
      ]
     },
     "execution_count": 91,
     "metadata": {},
     "output_type": "execute_result"
    }
   ],
   "source": [
    "df"
   ]
  },
  {
   "cell_type": "markdown",
   "id": "67a201a3",
   "metadata": {},
   "source": [
    "Parmanently drop the column by using \"df.drop('obg',axis=int, inplace=True)\" "
   ]
  },
  {
   "cell_type": "code",
   "execution_count": null,
   "id": "5d8e5804",
   "metadata": {},
   "outputs": [
    {
     "data": {
      "text/html": [
       "<div>\n",
       "<style scoped>\n",
       "    .dataframe tbody tr th:only-of-type {\n",
       "        vertical-align: middle;\n",
       "    }\n",
       "\n",
       "    .dataframe tbody tr th {\n",
       "        vertical-align: top;\n",
       "    }\n",
       "\n",
       "    .dataframe thead th {\n",
       "        text-align: right;\n",
       "    }\n",
       "</style>\n",
       "<table border=\"1\" class=\"dataframe\">\n",
       "  <thead>\n",
       "    <tr style=\"text-align: right;\">\n",
       "      <th></th>\n",
       "      <th>name</th>\n",
       "      <th>age</th>\n",
       "      <th>city</th>\n",
       "    </tr>\n",
       "  </thead>\n",
       "  <tbody>\n",
       "    <tr>\n",
       "      <th>0</th>\n",
       "      <td>Istiak</td>\n",
       "      <td>25</td>\n",
       "      <td>Dhaka</td>\n",
       "    </tr>\n",
       "    <tr>\n",
       "      <th>1</th>\n",
       "      <td>John</td>\n",
       "      <td>27</td>\n",
       "      <td>Dinazpur</td>\n",
       "    </tr>\n",
       "    <tr>\n",
       "      <th>2</th>\n",
       "      <td>Jack</td>\n",
       "      <td>28</td>\n",
       "      <td>Germany</td>\n",
       "    </tr>\n",
       "  </tbody>\n",
       "</table>\n",
       "</div>"
      ],
      "text/plain": [
       "     name  age      city\n",
       "0  Istiak   25     Dhaka\n",
       "1    John   27  Dinazpur\n",
       "2    Jack   28   Germany"
      ]
     },
     "execution_count": 92,
     "metadata": {},
     "output_type": "execute_result"
    }
   ],
   "source": [
    "df.drop('salary',axis=1,inplace=True)\n",
    "df"
   ]
  },
  {
   "cell_type": "markdown",
   "id": "0299136f",
   "metadata": {},
   "source": [
    "Show the data types"
   ]
  },
  {
   "cell_type": "code",
   "execution_count": 100,
   "id": "8c491abf",
   "metadata": {},
   "outputs": [
    {
     "data": {
      "text/plain": [
       "name    object\n",
       "age      int64\n",
       "city    object\n",
       "dtype: object"
      ]
     },
     "execution_count": 100,
     "metadata": {},
     "output_type": "execute_result"
    }
   ],
   "source": [
    "df.dtypes"
   ]
  },
  {
   "cell_type": "markdown",
   "id": "d3c9354a",
   "metadata": {},
   "source": [
    "It describe the statistical summery"
   ]
  },
  {
   "cell_type": "code",
   "execution_count": 101,
   "id": "69ed4a27",
   "metadata": {},
   "outputs": [
    {
     "data": {
      "text/html": [
       "<div>\n",
       "<style scoped>\n",
       "    .dataframe tbody tr th:only-of-type {\n",
       "        vertical-align: middle;\n",
       "    }\n",
       "\n",
       "    .dataframe tbody tr th {\n",
       "        vertical-align: top;\n",
       "    }\n",
       "\n",
       "    .dataframe thead th {\n",
       "        text-align: right;\n",
       "    }\n",
       "</style>\n",
       "<table border=\"1\" class=\"dataframe\">\n",
       "  <thead>\n",
       "    <tr style=\"text-align: right;\">\n",
       "      <th></th>\n",
       "      <th>age</th>\n",
       "    </tr>\n",
       "  </thead>\n",
       "  <tbody>\n",
       "    <tr>\n",
       "      <th>count</th>\n",
       "      <td>3.000000</td>\n",
       "    </tr>\n",
       "    <tr>\n",
       "      <th>mean</th>\n",
       "      <td>27.666667</td>\n",
       "    </tr>\n",
       "    <tr>\n",
       "      <th>std</th>\n",
       "      <td>1.527525</td>\n",
       "    </tr>\n",
       "    <tr>\n",
       "      <th>min</th>\n",
       "      <td>26.000000</td>\n",
       "    </tr>\n",
       "    <tr>\n",
       "      <th>25%</th>\n",
       "      <td>27.000000</td>\n",
       "    </tr>\n",
       "    <tr>\n",
       "      <th>50%</th>\n",
       "      <td>28.000000</td>\n",
       "    </tr>\n",
       "    <tr>\n",
       "      <th>75%</th>\n",
       "      <td>28.500000</td>\n",
       "    </tr>\n",
       "    <tr>\n",
       "      <th>max</th>\n",
       "      <td>29.000000</td>\n",
       "    </tr>\n",
       "  </tbody>\n",
       "</table>\n",
       "</div>"
      ],
      "text/plain": [
       "             age\n",
       "count   3.000000\n",
       "mean   27.666667\n",
       "std     1.527525\n",
       "min    26.000000\n",
       "25%    27.000000\n",
       "50%    28.000000\n",
       "75%    28.500000\n",
       "max    29.000000"
      ]
     },
     "execution_count": 101,
     "metadata": {},
     "output_type": "execute_result"
    }
   ],
   "source": [
    "df.describe()"
   ]
  },
  {
   "cell_type": "markdown",
   "id": "0e3a59cf",
   "metadata": {},
   "source": [
    "# Practice on Data Manipulation\n",
    "Incrementing all the age by 1 "
   ]
  },
  {
   "cell_type": "code",
   "execution_count": 4,
   "id": "c53ddd90",
   "metadata": {},
   "outputs": [
    {
     "name": "stdout",
     "output_type": "stream",
     "text": [
      "     name  age      city\n",
      "0  Istiak   25     Dhaka\n",
      "1    John   27  Dinazpur\n",
      "2    Jack   28   Germany\n",
      "After Incrementing age by 1 year\n",
      "     name  age      city\n",
      "0  Istiak   26     Dhaka\n",
      "1    John   28  Dinazpur\n",
      "2    Jack   29   Germany\n",
      "Data Summary:\n",
      "\n",
      "             age\n",
      "count   3.000000\n",
      "mean   27.666667\n",
      "std     1.527525\n",
      "min    26.000000\n",
      "25%    27.000000\n",
      "50%    28.000000\n",
      "75%    28.500000\n",
      "max    29.000000\n"
     ]
    }
   ],
   "source": [
    "data={'name':['Istiak','John','Jack'],\n",
    "      'age':[25,27,28],\n",
    "      'city':['Dhaka','Dinazpur','Germany']\n",
    "      }\n",
    "df=pd.DataFrame(data)\n",
    "print(df)\n",
    "print(\"After Incrementing age by 1 year\")\n",
    "df['age']=df['age']+1\n",
    "print(df)\n",
    "print(\"Data Summary:\\n\")\n",
    "print(df.describe())"
   ]
  },
  {
   "cell_type": "markdown",
   "id": "fe95fd9e",
   "metadata": {},
   "source": [
    "# Practice on a .csv file for data manipulation using Pandas"
   ]
  },
  {
   "cell_type": "markdown",
   "id": "300e2b83",
   "metadata": {},
   "source": [
    "Read the .csv file"
   ]
  },
  {
   "cell_type": "code",
   "execution_count": 20,
   "id": "762e74e7",
   "metadata": {},
   "outputs": [
    {
     "data": {
      "text/plain": [
       "Date         object\n",
       "Category     object\n",
       "Value       float64\n",
       "Product      object\n",
       "Sales       float64\n",
       "Region       object\n",
       "dtype: object"
      ]
     },
     "execution_count": 20,
     "metadata": {},
     "output_type": "execute_result"
    }
   ],
   "source": [
    "import pandas as pd\n",
    "df=pd.read_csv('sales_data.csv')\n",
    "# Fetch the first five rows\n",
    "df.head(5)\n",
    "# Fetch the Last five rows\n",
    "df.tail(5)\n",
    "#Statistical Summary\n",
    "df.describe()\n",
    "#Data Types\n",
    "df.dtypes\n",
    "\n"
   ]
  },
  {
   "cell_type": "markdown",
   "id": "0ad6aa80",
   "metadata": {},
   "source": [
    "Handling missing values"
   ]
  },
  {
   "cell_type": "code",
   "execution_count": null,
   "id": "2b1b4a78",
   "metadata": {},
   "outputs": [],
   "source": [
    "df.isnull() #Check whether there is any missing values or not?"
   ]
  },
  {
   "cell_type": "code",
   "execution_count": null,
   "id": "6d2afbfd",
   "metadata": {},
   "outputs": [],
   "source": [
    "df.isnull().any(axis=0)"
   ]
  },
  {
   "cell_type": "code",
   "execution_count": null,
   "id": "8a44f77d",
   "metadata": {},
   "outputs": [],
   "source": [
    "df.isnull().sum(axis=0)"
   ]
  },
  {
   "cell_type": "markdown",
   "id": "bbdb4276",
   "metadata": {},
   "source": [
    "Filling out the missing values"
   ]
  },
  {
   "cell_type": "code",
   "execution_count": null,
   "id": "d5479ae6",
   "metadata": {},
   "outputs": [],
   "source": [
    "df.fillna(0) #It will fill all the missing value with 0's\n",
    "df_filled=df.fillna(0) #Should create another copy of this filled dataframe"
   ]
  },
  {
   "cell_type": "markdown",
   "id": "8a086248",
   "metadata": {},
   "source": [
    "*Most of time we actually filled missing values with the 'mean value' of that particular columns* "
   ]
  },
  {
   "cell_type": "code",
   "execution_count": 40,
   "id": "7a515687",
   "metadata": {},
   "outputs": [
    {
     "data": {
      "text/html": [
       "<div>\n",
       "<style scoped>\n",
       "    .dataframe tbody tr th:only-of-type {\n",
       "        vertical-align: middle;\n",
       "    }\n",
       "\n",
       "    .dataframe tbody tr th {\n",
       "        vertical-align: top;\n",
       "    }\n",
       "\n",
       "    .dataframe thead th {\n",
       "        text-align: right;\n",
       "    }\n",
       "</style>\n",
       "<table border=\"1\" class=\"dataframe\">\n",
       "  <thead>\n",
       "    <tr style=\"text-align: right;\">\n",
       "      <th></th>\n",
       "      <th>Date</th>\n",
       "      <th>Category</th>\n",
       "      <th>Value</th>\n",
       "      <th>Product</th>\n",
       "      <th>Sales</th>\n",
       "      <th>Region</th>\n",
       "      <th>sales_fillna</th>\n",
       "    </tr>\n",
       "  </thead>\n",
       "  <tbody>\n",
       "    <tr>\n",
       "      <th>0</th>\n",
       "      <td>2023-01-01</td>\n",
       "      <td>A</td>\n",
       "      <td>28.0</td>\n",
       "      <td>Product1</td>\n",
       "      <td>754.0</td>\n",
       "      <td>East</td>\n",
       "      <td>754.0</td>\n",
       "    </tr>\n",
       "    <tr>\n",
       "      <th>1</th>\n",
       "      <td>2023-01-02</td>\n",
       "      <td>B</td>\n",
       "      <td>39.0</td>\n",
       "      <td>Product3</td>\n",
       "      <td>110.0</td>\n",
       "      <td>North</td>\n",
       "      <td>110.0</td>\n",
       "    </tr>\n",
       "    <tr>\n",
       "      <th>2</th>\n",
       "      <td>2023-01-03</td>\n",
       "      <td>C</td>\n",
       "      <td>32.0</td>\n",
       "      <td>Product2</td>\n",
       "      <td>398.0</td>\n",
       "      <td>East</td>\n",
       "      <td>398.0</td>\n",
       "    </tr>\n",
       "    <tr>\n",
       "      <th>3</th>\n",
       "      <td>2023-01-04</td>\n",
       "      <td>B</td>\n",
       "      <td>8.0</td>\n",
       "      <td>Product1</td>\n",
       "      <td>522.0</td>\n",
       "      <td>East</td>\n",
       "      <td>522.0</td>\n",
       "    </tr>\n",
       "    <tr>\n",
       "      <th>4</th>\n",
       "      <td>2023-01-05</td>\n",
       "      <td>B</td>\n",
       "      <td>26.0</td>\n",
       "      <td>Product3</td>\n",
       "      <td>869.0</td>\n",
       "      <td>North</td>\n",
       "      <td>869.0</td>\n",
       "    </tr>\n",
       "  </tbody>\n",
       "</table>\n",
       "</div>"
      ],
      "text/plain": [
       "         Date Category  Value   Product  Sales Region  sales_fillna\n",
       "0  2023-01-01        A   28.0  Product1  754.0   East         754.0\n",
       "1  2023-01-02        B   39.0  Product3  110.0  North         110.0\n",
       "2  2023-01-03        C   32.0  Product2  398.0   East         398.0\n",
       "3  2023-01-04        B    8.0  Product1  522.0   East         522.0\n",
       "4  2023-01-05        B   26.0  Product3  869.0  North         869.0"
      ]
     },
     "execution_count": 40,
     "metadata": {},
     "output_type": "execute_result"
    }
   ],
   "source": [
    "df['sales_fillna']=df['Sales'].fillna(df['Sales'].mean())\n",
    "df.head(5)"
   ]
  },
  {
   "cell_type": "markdown",
   "id": "3d8521fa",
   "metadata": {},
   "source": [
    "Rename an existing column \"df= df.rename(column={\"x_name, new_name\"})\""
   ]
  },
  {
   "cell_type": "code",
   "execution_count": 44,
   "id": "80d5b7f6",
   "metadata": {},
   "outputs": [
    {
     "data": {
      "text/html": [
       "<div>\n",
       "<style scoped>\n",
       "    .dataframe tbody tr th:only-of-type {\n",
       "        vertical-align: middle;\n",
       "    }\n",
       "\n",
       "    .dataframe tbody tr th {\n",
       "        vertical-align: top;\n",
       "    }\n",
       "\n",
       "    .dataframe thead th {\n",
       "        text-align: right;\n",
       "    }\n",
       "</style>\n",
       "<table border=\"1\" class=\"dataframe\">\n",
       "  <thead>\n",
       "    <tr style=\"text-align: right;\">\n",
       "      <th></th>\n",
       "      <th>Dates</th>\n",
       "      <th>Category</th>\n",
       "      <th>Value</th>\n",
       "      <th>Product</th>\n",
       "      <th>Sales</th>\n",
       "      <th>Region</th>\n",
       "      <th>sales_fillna</th>\n",
       "    </tr>\n",
       "  </thead>\n",
       "  <tbody>\n",
       "    <tr>\n",
       "      <th>0</th>\n",
       "      <td>2023-01-01</td>\n",
       "      <td>A</td>\n",
       "      <td>28.0</td>\n",
       "      <td>Product1</td>\n",
       "      <td>754.0</td>\n",
       "      <td>East</td>\n",
       "      <td>754.0</td>\n",
       "    </tr>\n",
       "    <tr>\n",
       "      <th>1</th>\n",
       "      <td>2023-01-02</td>\n",
       "      <td>B</td>\n",
       "      <td>39.0</td>\n",
       "      <td>Product3</td>\n",
       "      <td>110.0</td>\n",
       "      <td>North</td>\n",
       "      <td>110.0</td>\n",
       "    </tr>\n",
       "    <tr>\n",
       "      <th>2</th>\n",
       "      <td>2023-01-03</td>\n",
       "      <td>C</td>\n",
       "      <td>32.0</td>\n",
       "      <td>Product2</td>\n",
       "      <td>398.0</td>\n",
       "      <td>East</td>\n",
       "      <td>398.0</td>\n",
       "    </tr>\n",
       "    <tr>\n",
       "      <th>3</th>\n",
       "      <td>2023-01-04</td>\n",
       "      <td>B</td>\n",
       "      <td>8.0</td>\n",
       "      <td>Product1</td>\n",
       "      <td>522.0</td>\n",
       "      <td>East</td>\n",
       "      <td>522.0</td>\n",
       "    </tr>\n",
       "    <tr>\n",
       "      <th>4</th>\n",
       "      <td>2023-01-05</td>\n",
       "      <td>B</td>\n",
       "      <td>26.0</td>\n",
       "      <td>Product3</td>\n",
       "      <td>869.0</td>\n",
       "      <td>North</td>\n",
       "      <td>869.0</td>\n",
       "    </tr>\n",
       "  </tbody>\n",
       "</table>\n",
       "</div>"
      ],
      "text/plain": [
       "        Dates Category  Value   Product  Sales Region  sales_fillna\n",
       "0  2023-01-01        A   28.0  Product1  754.0   East         754.0\n",
       "1  2023-01-02        B   39.0  Product3  110.0  North         110.0\n",
       "2  2023-01-03        C   32.0  Product2  398.0   East         398.0\n",
       "3  2023-01-04        B    8.0  Product1  522.0   East         522.0\n",
       "4  2023-01-05        B   26.0  Product3  869.0  North         869.0"
      ]
     },
     "execution_count": 44,
     "metadata": {},
     "output_type": "execute_result"
    }
   ],
   "source": [
    "df=df.rename(columns={'Date':'Dates'})\n",
    "df.head(5)"
   ]
  },
  {
   "cell_type": "markdown",
   "id": "e3198c14",
   "metadata": {},
   "source": [
    "Changing data types \"astype()\""
   ]
  },
  {
   "cell_type": "code",
   "execution_count": 45,
   "id": "6a848b00",
   "metadata": {},
   "outputs": [
    {
     "data": {
      "text/html": [
       "<div>\n",
       "<style scoped>\n",
       "    .dataframe tbody tr th:only-of-type {\n",
       "        vertical-align: middle;\n",
       "    }\n",
       "\n",
       "    .dataframe tbody tr th {\n",
       "        vertical-align: top;\n",
       "    }\n",
       "\n",
       "    .dataframe thead th {\n",
       "        text-align: right;\n",
       "    }\n",
       "</style>\n",
       "<table border=\"1\" class=\"dataframe\">\n",
       "  <thead>\n",
       "    <tr style=\"text-align: right;\">\n",
       "      <th></th>\n",
       "      <th>Dates</th>\n",
       "      <th>Category</th>\n",
       "      <th>Value</th>\n",
       "      <th>Product</th>\n",
       "      <th>Sales</th>\n",
       "      <th>Region</th>\n",
       "      <th>sales_fillna</th>\n",
       "      <th>new_value</th>\n",
       "    </tr>\n",
       "  </thead>\n",
       "  <tbody>\n",
       "    <tr>\n",
       "      <th>0</th>\n",
       "      <td>2023-01-01</td>\n",
       "      <td>A</td>\n",
       "      <td>28.0</td>\n",
       "      <td>Product1</td>\n",
       "      <td>754.0</td>\n",
       "      <td>East</td>\n",
       "      <td>754.0</td>\n",
       "      <td>28</td>\n",
       "    </tr>\n",
       "    <tr>\n",
       "      <th>1</th>\n",
       "      <td>2023-01-02</td>\n",
       "      <td>B</td>\n",
       "      <td>39.0</td>\n",
       "      <td>Product3</td>\n",
       "      <td>110.0</td>\n",
       "      <td>North</td>\n",
       "      <td>110.0</td>\n",
       "      <td>39</td>\n",
       "    </tr>\n",
       "    <tr>\n",
       "      <th>2</th>\n",
       "      <td>2023-01-03</td>\n",
       "      <td>C</td>\n",
       "      <td>32.0</td>\n",
       "      <td>Product2</td>\n",
       "      <td>398.0</td>\n",
       "      <td>East</td>\n",
       "      <td>398.0</td>\n",
       "      <td>32</td>\n",
       "    </tr>\n",
       "    <tr>\n",
       "      <th>3</th>\n",
       "      <td>2023-01-04</td>\n",
       "      <td>B</td>\n",
       "      <td>8.0</td>\n",
       "      <td>Product1</td>\n",
       "      <td>522.0</td>\n",
       "      <td>East</td>\n",
       "      <td>522.0</td>\n",
       "      <td>8</td>\n",
       "    </tr>\n",
       "    <tr>\n",
       "      <th>4</th>\n",
       "      <td>2023-01-05</td>\n",
       "      <td>B</td>\n",
       "      <td>26.0</td>\n",
       "      <td>Product3</td>\n",
       "      <td>869.0</td>\n",
       "      <td>North</td>\n",
       "      <td>869.0</td>\n",
       "      <td>26</td>\n",
       "    </tr>\n",
       "  </tbody>\n",
       "</table>\n",
       "</div>"
      ],
      "text/plain": [
       "        Dates Category  Value   Product  Sales Region  sales_fillna  new_value\n",
       "0  2023-01-01        A   28.0  Product1  754.0   East         754.0         28\n",
       "1  2023-01-02        B   39.0  Product3  110.0  North         110.0         39\n",
       "2  2023-01-03        C   32.0  Product2  398.0   East         398.0         32\n",
       "3  2023-01-04        B    8.0  Product1  522.0   East         522.0          8\n",
       "4  2023-01-05        B   26.0  Product3  869.0  North         869.0         26"
      ]
     },
     "execution_count": 45,
     "metadata": {},
     "output_type": "execute_result"
    }
   ],
   "source": [
    "df['new_value']=df['Value'].fillna(df['Value'].mean()).astype(int)\n",
    "df.head(5)"
   ]
  },
  {
   "cell_type": "markdown",
   "id": "7b0d4dd6",
   "metadata": {},
   "source": [
    "Applying operation on a specific column by using \"apply ( )\""
   ]
  },
  {
   "cell_type": "code",
   "execution_count": 50,
   "id": "638a77a6",
   "metadata": {},
   "outputs": [
    {
     "data": {
      "text/html": [
       "<div>\n",
       "<style scoped>\n",
       "    .dataframe tbody tr th:only-of-type {\n",
       "        vertical-align: middle;\n",
       "    }\n",
       "\n",
       "    .dataframe tbody tr th {\n",
       "        vertical-align: top;\n",
       "    }\n",
       "\n",
       "    .dataframe thead th {\n",
       "        text-align: right;\n",
       "    }\n",
       "</style>\n",
       "<table border=\"1\" class=\"dataframe\">\n",
       "  <thead>\n",
       "    <tr style=\"text-align: right;\">\n",
       "      <th></th>\n",
       "      <th>Dates</th>\n",
       "      <th>Category</th>\n",
       "      <th>Value</th>\n",
       "      <th>Product</th>\n",
       "      <th>Sales</th>\n",
       "      <th>Region</th>\n",
       "      <th>sales_fillna</th>\n",
       "      <th>new_value</th>\n",
       "      <th>increased_value</th>\n",
       "    </tr>\n",
       "  </thead>\n",
       "  <tbody>\n",
       "    <tr>\n",
       "      <th>0</th>\n",
       "      <td>2023-01-01</td>\n",
       "      <td>A</td>\n",
       "      <td>28.0</td>\n",
       "      <td>Product1</td>\n",
       "      <td>754.0</td>\n",
       "      <td>East</td>\n",
       "      <td>754.0</td>\n",
       "      <td>28</td>\n",
       "      <td>56</td>\n",
       "    </tr>\n",
       "    <tr>\n",
       "      <th>1</th>\n",
       "      <td>2023-01-02</td>\n",
       "      <td>B</td>\n",
       "      <td>39.0</td>\n",
       "      <td>Product3</td>\n",
       "      <td>110.0</td>\n",
       "      <td>North</td>\n",
       "      <td>110.0</td>\n",
       "      <td>39</td>\n",
       "      <td>78</td>\n",
       "    </tr>\n",
       "    <tr>\n",
       "      <th>2</th>\n",
       "      <td>2023-01-03</td>\n",
       "      <td>C</td>\n",
       "      <td>32.0</td>\n",
       "      <td>Product2</td>\n",
       "      <td>398.0</td>\n",
       "      <td>East</td>\n",
       "      <td>398.0</td>\n",
       "      <td>32</td>\n",
       "      <td>64</td>\n",
       "    </tr>\n",
       "    <tr>\n",
       "      <th>3</th>\n",
       "      <td>2023-01-04</td>\n",
       "      <td>B</td>\n",
       "      <td>8.0</td>\n",
       "      <td>Product1</td>\n",
       "      <td>522.0</td>\n",
       "      <td>East</td>\n",
       "      <td>522.0</td>\n",
       "      <td>8</td>\n",
       "      <td>16</td>\n",
       "    </tr>\n",
       "    <tr>\n",
       "      <th>4</th>\n",
       "      <td>2023-01-05</td>\n",
       "      <td>B</td>\n",
       "      <td>26.0</td>\n",
       "      <td>Product3</td>\n",
       "      <td>869.0</td>\n",
       "      <td>North</td>\n",
       "      <td>869.0</td>\n",
       "      <td>26</td>\n",
       "      <td>52</td>\n",
       "    </tr>\n",
       "  </tbody>\n",
       "</table>\n",
       "</div>"
      ],
      "text/plain": [
       "        Dates Category  Value   Product  Sales Region  sales_fillna  \\\n",
       "0  2023-01-01        A   28.0  Product1  754.0   East         754.0   \n",
       "1  2023-01-02        B   39.0  Product3  110.0  North         110.0   \n",
       "2  2023-01-03        C   32.0  Product2  398.0   East         398.0   \n",
       "3  2023-01-04        B    8.0  Product1  522.0   East         522.0   \n",
       "4  2023-01-05        B   26.0  Product3  869.0  North         869.0   \n",
       "\n",
       "   new_value  increased_value  \n",
       "0         28               56  \n",
       "1         39               78  \n",
       "2         32               64  \n",
       "3          8               16  \n",
       "4         26               52  "
      ]
     },
     "execution_count": 50,
     "metadata": {},
     "output_type": "execute_result"
    }
   ],
   "source": [
    "df['increased_value']=df['Value'].fillna(df['Value'].mean()).apply(lambda x:x*2).astype(int)\n",
    "df.head(5)"
   ]
  },
  {
   "cell_type": "markdown",
   "id": "f96f9de2",
   "metadata": {},
   "source": [
    "# Data Aggregating and Gouping"
   ]
  },
  {
   "cell_type": "code",
   "execution_count": 53,
   "id": "42a2fa99",
   "metadata": {},
   "outputs": [
    {
     "data": {
      "text/html": [
       "<div>\n",
       "<style scoped>\n",
       "    .dataframe tbody tr th:only-of-type {\n",
       "        vertical-align: middle;\n",
       "    }\n",
       "\n",
       "    .dataframe tbody tr th {\n",
       "        vertical-align: top;\n",
       "    }\n",
       "\n",
       "    .dataframe thead th {\n",
       "        text-align: right;\n",
       "    }\n",
       "</style>\n",
       "<table border=\"1\" class=\"dataframe\">\n",
       "  <thead>\n",
       "    <tr style=\"text-align: right;\">\n",
       "      <th></th>\n",
       "      <th>Dates</th>\n",
       "      <th>Category</th>\n",
       "      <th>Value</th>\n",
       "      <th>Product</th>\n",
       "      <th>Sales</th>\n",
       "      <th>Region</th>\n",
       "      <th>sales_fillna</th>\n",
       "      <th>new_value</th>\n",
       "      <th>increased_value</th>\n",
       "    </tr>\n",
       "  </thead>\n",
       "  <tbody>\n",
       "    <tr>\n",
       "      <th>0</th>\n",
       "      <td>2023-01-01</td>\n",
       "      <td>A</td>\n",
       "      <td>28.0</td>\n",
       "      <td>Product1</td>\n",
       "      <td>754.0</td>\n",
       "      <td>East</td>\n",
       "      <td>754.0</td>\n",
       "      <td>28</td>\n",
       "      <td>56</td>\n",
       "    </tr>\n",
       "    <tr>\n",
       "      <th>1</th>\n",
       "      <td>2023-01-02</td>\n",
       "      <td>B</td>\n",
       "      <td>39.0</td>\n",
       "      <td>Product3</td>\n",
       "      <td>110.0</td>\n",
       "      <td>North</td>\n",
       "      <td>110.0</td>\n",
       "      <td>39</td>\n",
       "      <td>78</td>\n",
       "    </tr>\n",
       "    <tr>\n",
       "      <th>2</th>\n",
       "      <td>2023-01-03</td>\n",
       "      <td>C</td>\n",
       "      <td>32.0</td>\n",
       "      <td>Product2</td>\n",
       "      <td>398.0</td>\n",
       "      <td>East</td>\n",
       "      <td>398.0</td>\n",
       "      <td>32</td>\n",
       "      <td>64</td>\n",
       "    </tr>\n",
       "    <tr>\n",
       "      <th>3</th>\n",
       "      <td>2023-01-04</td>\n",
       "      <td>B</td>\n",
       "      <td>8.0</td>\n",
       "      <td>Product1</td>\n",
       "      <td>522.0</td>\n",
       "      <td>East</td>\n",
       "      <td>522.0</td>\n",
       "      <td>8</td>\n",
       "      <td>16</td>\n",
       "    </tr>\n",
       "    <tr>\n",
       "      <th>4</th>\n",
       "      <td>2023-01-05</td>\n",
       "      <td>B</td>\n",
       "      <td>26.0</td>\n",
       "      <td>Product3</td>\n",
       "      <td>869.0</td>\n",
       "      <td>North</td>\n",
       "      <td>869.0</td>\n",
       "      <td>26</td>\n",
       "      <td>52</td>\n",
       "    </tr>\n",
       "  </tbody>\n",
       "</table>\n",
       "</div>"
      ],
      "text/plain": [
       "        Dates Category  Value   Product  Sales Region  sales_fillna  \\\n",
       "0  2023-01-01        A   28.0  Product1  754.0   East         754.0   \n",
       "1  2023-01-02        B   39.0  Product3  110.0  North         110.0   \n",
       "2  2023-01-03        C   32.0  Product2  398.0   East         398.0   \n",
       "3  2023-01-04        B    8.0  Product1  522.0   East         522.0   \n",
       "4  2023-01-05        B   26.0  Product3  869.0  North         869.0   \n",
       "\n",
       "   new_value  increased_value  \n",
       "0         28               56  \n",
       "1         39               78  \n",
       "2         32               64  \n",
       "3          8               16  \n",
       "4         26               52  "
      ]
     },
     "execution_count": 53,
     "metadata": {},
     "output_type": "execute_result"
    }
   ],
   "source": [
    "df.head()"
   ]
  },
  {
   "cell_type": "markdown",
   "id": "d447ed9a",
   "metadata": {},
   "source": [
    "Based on product i want to do an aggerigation and i want to de the mean of the specific value. \"df.groupby('base_col)['target_col].mean()"
   ]
  },
  {
   "cell_type": "code",
   "execution_count": null,
   "id": "bc6bcb60",
   "metadata": {},
   "outputs": [
    {
     "name": "stdout",
     "output_type": "stream",
     "text": [
      "Product\n",
      "Product1    46.214286\n",
      "Product2    52.800000\n",
      "Product3    55.166667\n",
      "Name: Value, dtype: float64\n",
      "<class 'pandas.core.series.Series'>\n"
     ]
    }
   ],
   "source": [
    "grouped_mean=df.groupby('Product')['Value'].mean()\n",
    "print(grouped_mean)"
   ]
  },
  {
   "cell_type": "markdown",
   "id": "8ba15573",
   "metadata": {},
   "source": [
    "Based on 2 or multiple catagories \"product and Region\" i want to do an aggerigation and i want to do the sum of the specific \"value\". \"df.groupby(['base_col_ 1','base_col_ 2','base_col_ n'])['target_col].sum()"
   ]
  },
  {
   "cell_type": "code",
   "execution_count": 61,
   "id": "46ff2546",
   "metadata": {},
   "outputs": [
    {
     "data": {
      "text/plain": [
       "Product   Region\n",
       "Product1  East      292.0\n",
       "          North       9.0\n",
       "          South     100.0\n",
       "          West      246.0\n",
       "Product2  East       56.0\n",
       "          North     127.0\n",
       "          South     181.0\n",
       "          West      428.0\n",
       "Product3  East      202.0\n",
       "          North     203.0\n",
       "          South     215.0\n",
       "          West      373.0\n",
       "Name: Value, dtype: float64"
      ]
     },
     "execution_count": 61,
     "metadata": {},
     "output_type": "execute_result"
    }
   ],
   "source": [
    "gouped_sum=df.groupby(['Product','Region'])['Value'].sum()\n",
    "gouped_sum"
   ]
  },
  {
   "cell_type": "markdown",
   "id": "c85badd2",
   "metadata": {},
   "source": [
    "aggrigate Multiple functions"
   ]
  },
  {
   "cell_type": "code",
   "execution_count": null,
   "id": "d94454ba",
   "metadata": {},
   "outputs": [
    {
     "data": {
      "text/html": [
       "<div>\n",
       "<style scoped>\n",
       "    .dataframe tbody tr th:only-of-type {\n",
       "        vertical-align: middle;\n",
       "    }\n",
       "\n",
       "    .dataframe tbody tr th {\n",
       "        vertical-align: top;\n",
       "    }\n",
       "\n",
       "    .dataframe thead th {\n",
       "        text-align: right;\n",
       "    }\n",
       "</style>\n",
       "<table border=\"1\" class=\"dataframe\">\n",
       "  <thead>\n",
       "    <tr style=\"text-align: right;\">\n",
       "      <th></th>\n",
       "      <th>sum</th>\n",
       "      <th>mean</th>\n",
       "      <th>count</th>\n",
       "    </tr>\n",
       "    <tr>\n",
       "      <th>Region</th>\n",
       "      <th></th>\n",
       "      <th></th>\n",
       "      <th></th>\n",
       "    </tr>\n",
       "  </thead>\n",
       "  <tbody>\n",
       "    <tr>\n",
       "      <th>East</th>\n",
       "      <td>550.0</td>\n",
       "      <td>42.307692</td>\n",
       "      <td>13</td>\n",
       "    </tr>\n",
       "    <tr>\n",
       "      <th>North</th>\n",
       "      <td>339.0</td>\n",
       "      <td>37.666667</td>\n",
       "      <td>9</td>\n",
       "    </tr>\n",
       "    <tr>\n",
       "      <th>South</th>\n",
       "      <td>496.0</td>\n",
       "      <td>62.000000</td>\n",
       "      <td>8</td>\n",
       "    </tr>\n",
       "    <tr>\n",
       "      <th>West</th>\n",
       "      <td>1047.0</td>\n",
       "      <td>61.588235</td>\n",
       "      <td>17</td>\n",
       "    </tr>\n",
       "  </tbody>\n",
       "</table>\n",
       "</div>"
      ],
      "text/plain": [
       "           sum       mean  count\n",
       "Region                          \n",
       "East     550.0  42.307692     13\n",
       "North    339.0  37.666667      9\n",
       "South    496.0  62.000000      8\n",
       "West    1047.0  61.588235     17"
      ]
     },
     "execution_count": 63,
     "metadata": {},
     "output_type": "execute_result"
    }
   ],
   "source": [
    "gouped_aggri=df.groupby('Region')['Sales'].agg(['sum','mean','count'])\n",
    "gouped_aggri"
   ]
  },
  {
   "cell_type": "markdown",
   "id": "daa80007",
   "metadata": {},
   "source": [
    "# Merging and joining dataframes"
   ]
  },
  {
   "cell_type": "markdown",
   "id": "2b994882",
   "metadata": {},
   "source": [
    "Creating sample dataframes"
   ]
  },
  {
   "cell_type": "code",
   "execution_count": 96,
   "id": "2270ec95",
   "metadata": {},
   "outputs": [],
   "source": [
    "df1=pd.DataFrame({'key':['a','b','c'], 'value1':[10,20,30]})\n",
    "\n",
    "df2=pd.DataFrame({'key': ['a','d','b'], 'value2':[40,50,60]})"
   ]
  },
  {
   "cell_type": "code",
   "execution_count": 101,
   "id": "64995ab7",
   "metadata": {},
   "outputs": [
    {
     "data": {
      "text/html": [
       "<div>\n",
       "<style scoped>\n",
       "    .dataframe tbody tr th:only-of-type {\n",
       "        vertical-align: middle;\n",
       "    }\n",
       "\n",
       "    .dataframe tbody tr th {\n",
       "        vertical-align: top;\n",
       "    }\n",
       "\n",
       "    .dataframe thead th {\n",
       "        text-align: right;\n",
       "    }\n",
       "</style>\n",
       "<table border=\"1\" class=\"dataframe\">\n",
       "  <thead>\n",
       "    <tr style=\"text-align: right;\">\n",
       "      <th></th>\n",
       "      <th>key</th>\n",
       "      <th>value1</th>\n",
       "    </tr>\n",
       "  </thead>\n",
       "  <tbody>\n",
       "    <tr>\n",
       "      <th>0</th>\n",
       "      <td>a</td>\n",
       "      <td>10</td>\n",
       "    </tr>\n",
       "    <tr>\n",
       "      <th>1</th>\n",
       "      <td>b</td>\n",
       "      <td>20</td>\n",
       "    </tr>\n",
       "    <tr>\n",
       "      <th>2</th>\n",
       "      <td>c</td>\n",
       "      <td>30</td>\n",
       "    </tr>\n",
       "  </tbody>\n",
       "</table>\n",
       "</div>"
      ],
      "text/plain": [
       "  key  value1\n",
       "0   a      10\n",
       "1   b      20\n",
       "2   c      30"
      ]
     },
     "execution_count": 101,
     "metadata": {},
     "output_type": "execute_result"
    }
   ],
   "source": [
    "df1"
   ]
  },
  {
   "cell_type": "code",
   "execution_count": 102,
   "id": "8e548c69",
   "metadata": {},
   "outputs": [
    {
     "data": {
      "text/html": [
       "<div>\n",
       "<style scoped>\n",
       "    .dataframe tbody tr th:only-of-type {\n",
       "        vertical-align: middle;\n",
       "    }\n",
       "\n",
       "    .dataframe tbody tr th {\n",
       "        vertical-align: top;\n",
       "    }\n",
       "\n",
       "    .dataframe thead th {\n",
       "        text-align: right;\n",
       "    }\n",
       "</style>\n",
       "<table border=\"1\" class=\"dataframe\">\n",
       "  <thead>\n",
       "    <tr style=\"text-align: right;\">\n",
       "      <th></th>\n",
       "      <th>key</th>\n",
       "      <th>value2</th>\n",
       "    </tr>\n",
       "  </thead>\n",
       "  <tbody>\n",
       "    <tr>\n",
       "      <th>0</th>\n",
       "      <td>a</td>\n",
       "      <td>40</td>\n",
       "    </tr>\n",
       "    <tr>\n",
       "      <th>1</th>\n",
       "      <td>d</td>\n",
       "      <td>50</td>\n",
       "    </tr>\n",
       "    <tr>\n",
       "      <th>2</th>\n",
       "      <td>b</td>\n",
       "      <td>60</td>\n",
       "    </tr>\n",
       "  </tbody>\n",
       "</table>\n",
       "</div>"
      ],
      "text/plain": [
       "  key  value2\n",
       "0   a      40\n",
       "1   d      50\n",
       "2   b      60"
      ]
     },
     "execution_count": 102,
     "metadata": {},
     "output_type": "execute_result"
    }
   ],
   "source": [
    "df2"
   ]
  },
  {
   "cell_type": "markdown",
   "id": "495fba68",
   "metadata": {},
   "source": [
    "Merge Dataframe based on the \"Key\" column (inner join)"
   ]
  },
  {
   "cell_type": "code",
   "execution_count": 99,
   "id": "d00deb05",
   "metadata": {},
   "outputs": [
    {
     "data": {
      "text/html": [
       "<div>\n",
       "<style scoped>\n",
       "    .dataframe tbody tr th:only-of-type {\n",
       "        vertical-align: middle;\n",
       "    }\n",
       "\n",
       "    .dataframe tbody tr th {\n",
       "        vertical-align: top;\n",
       "    }\n",
       "\n",
       "    .dataframe thead th {\n",
       "        text-align: right;\n",
       "    }\n",
       "</style>\n",
       "<table border=\"1\" class=\"dataframe\">\n",
       "  <thead>\n",
       "    <tr style=\"text-align: right;\">\n",
       "      <th></th>\n",
       "      <th>key</th>\n",
       "      <th>value1</th>\n",
       "      <th>value2</th>\n",
       "    </tr>\n",
       "  </thead>\n",
       "  <tbody>\n",
       "    <tr>\n",
       "      <th>0</th>\n",
       "      <td>a</td>\n",
       "      <td>10</td>\n",
       "      <td>40</td>\n",
       "    </tr>\n",
       "    <tr>\n",
       "      <th>1</th>\n",
       "      <td>b</td>\n",
       "      <td>20</td>\n",
       "      <td>60</td>\n",
       "    </tr>\n",
       "  </tbody>\n",
       "</table>\n",
       "</div>"
      ],
      "text/plain": [
       "  key  value1  value2\n",
       "0   a      10      40\n",
       "1   b      20      60"
      ]
     },
     "execution_count": 99,
     "metadata": {},
     "output_type": "execute_result"
    }
   ],
   "source": [
    "pd.merge(df1,df2,on='key', how='inner')"
   ]
  },
  {
   "cell_type": "markdown",
   "id": "14348915",
   "metadata": {},
   "source": [
    "Merge Dataframe based on the \"Key\" column (outer join)"
   ]
  },
  {
   "cell_type": "code",
   "execution_count": 103,
   "id": "c6512584",
   "metadata": {},
   "outputs": [
    {
     "data": {
      "text/html": [
       "<div>\n",
       "<style scoped>\n",
       "    .dataframe tbody tr th:only-of-type {\n",
       "        vertical-align: middle;\n",
       "    }\n",
       "\n",
       "    .dataframe tbody tr th {\n",
       "        vertical-align: top;\n",
       "    }\n",
       "\n",
       "    .dataframe thead th {\n",
       "        text-align: right;\n",
       "    }\n",
       "</style>\n",
       "<table border=\"1\" class=\"dataframe\">\n",
       "  <thead>\n",
       "    <tr style=\"text-align: right;\">\n",
       "      <th></th>\n",
       "      <th>key</th>\n",
       "      <th>value1</th>\n",
       "      <th>value2</th>\n",
       "    </tr>\n",
       "  </thead>\n",
       "  <tbody>\n",
       "    <tr>\n",
       "      <th>0</th>\n",
       "      <td>a</td>\n",
       "      <td>10.0</td>\n",
       "      <td>40.0</td>\n",
       "    </tr>\n",
       "    <tr>\n",
       "      <th>1</th>\n",
       "      <td>b</td>\n",
       "      <td>20.0</td>\n",
       "      <td>60.0</td>\n",
       "    </tr>\n",
       "    <tr>\n",
       "      <th>2</th>\n",
       "      <td>c</td>\n",
       "      <td>30.0</td>\n",
       "      <td>NaN</td>\n",
       "    </tr>\n",
       "    <tr>\n",
       "      <th>3</th>\n",
       "      <td>d</td>\n",
       "      <td>NaN</td>\n",
       "      <td>50.0</td>\n",
       "    </tr>\n",
       "  </tbody>\n",
       "</table>\n",
       "</div>"
      ],
      "text/plain": [
       "  key  value1  value2\n",
       "0   a    10.0    40.0\n",
       "1   b    20.0    60.0\n",
       "2   c    30.0     NaN\n",
       "3   d     NaN    50.0"
      ]
     },
     "execution_count": 103,
     "metadata": {},
     "output_type": "execute_result"
    }
   ],
   "source": [
    "pd.merge(df1,df2,on='key',how='outer')"
   ]
  },
  {
   "cell_type": "markdown",
   "id": "1359d31d",
   "metadata": {},
   "source": [
    "Merge Dataframe based on the \"Key\" column (left join)"
   ]
  },
  {
   "cell_type": "code",
   "execution_count": 104,
   "id": "b5cafe01",
   "metadata": {},
   "outputs": [
    {
     "data": {
      "text/html": [
       "<div>\n",
       "<style scoped>\n",
       "    .dataframe tbody tr th:only-of-type {\n",
       "        vertical-align: middle;\n",
       "    }\n",
       "\n",
       "    .dataframe tbody tr th {\n",
       "        vertical-align: top;\n",
       "    }\n",
       "\n",
       "    .dataframe thead th {\n",
       "        text-align: right;\n",
       "    }\n",
       "</style>\n",
       "<table border=\"1\" class=\"dataframe\">\n",
       "  <thead>\n",
       "    <tr style=\"text-align: right;\">\n",
       "      <th></th>\n",
       "      <th>key</th>\n",
       "      <th>value1</th>\n",
       "      <th>value2</th>\n",
       "    </tr>\n",
       "  </thead>\n",
       "  <tbody>\n",
       "    <tr>\n",
       "      <th>0</th>\n",
       "      <td>a</td>\n",
       "      <td>10</td>\n",
       "      <td>40.0</td>\n",
       "    </tr>\n",
       "    <tr>\n",
       "      <th>1</th>\n",
       "      <td>b</td>\n",
       "      <td>20</td>\n",
       "      <td>60.0</td>\n",
       "    </tr>\n",
       "    <tr>\n",
       "      <th>2</th>\n",
       "      <td>c</td>\n",
       "      <td>30</td>\n",
       "      <td>NaN</td>\n",
       "    </tr>\n",
       "  </tbody>\n",
       "</table>\n",
       "</div>"
      ],
      "text/plain": [
       "  key  value1  value2\n",
       "0   a      10    40.0\n",
       "1   b      20    60.0\n",
       "2   c      30     NaN"
      ]
     },
     "execution_count": 104,
     "metadata": {},
     "output_type": "execute_result"
    }
   ],
   "source": [
    "pd.merge(df1,df2,on='key',how='left')"
   ]
  },
  {
   "cell_type": "markdown",
   "id": "737687de",
   "metadata": {},
   "source": [
    "Merge Dataframe based on the \"Key\" column (right join)"
   ]
  },
  {
   "cell_type": "code",
   "execution_count": 105,
   "id": "5530e458",
   "metadata": {},
   "outputs": [
    {
     "data": {
      "text/html": [
       "<div>\n",
       "<style scoped>\n",
       "    .dataframe tbody tr th:only-of-type {\n",
       "        vertical-align: middle;\n",
       "    }\n",
       "\n",
       "    .dataframe tbody tr th {\n",
       "        vertical-align: top;\n",
       "    }\n",
       "\n",
       "    .dataframe thead th {\n",
       "        text-align: right;\n",
       "    }\n",
       "</style>\n",
       "<table border=\"1\" class=\"dataframe\">\n",
       "  <thead>\n",
       "    <tr style=\"text-align: right;\">\n",
       "      <th></th>\n",
       "      <th>key</th>\n",
       "      <th>value1</th>\n",
       "      <th>value2</th>\n",
       "    </tr>\n",
       "  </thead>\n",
       "  <tbody>\n",
       "    <tr>\n",
       "      <th>0</th>\n",
       "      <td>a</td>\n",
       "      <td>10.0</td>\n",
       "      <td>40</td>\n",
       "    </tr>\n",
       "    <tr>\n",
       "      <th>1</th>\n",
       "      <td>d</td>\n",
       "      <td>NaN</td>\n",
       "      <td>50</td>\n",
       "    </tr>\n",
       "    <tr>\n",
       "      <th>2</th>\n",
       "      <td>b</td>\n",
       "      <td>20.0</td>\n",
       "      <td>60</td>\n",
       "    </tr>\n",
       "  </tbody>\n",
       "</table>\n",
       "</div>"
      ],
      "text/plain": [
       "  key  value1  value2\n",
       "0   a    10.0      40\n",
       "1   d     NaN      50\n",
       "2   b    20.0      60"
      ]
     },
     "execution_count": 105,
     "metadata": {},
     "output_type": "execute_result"
    }
   ],
   "source": [
    "pd.merge(df1,df2,on='key',how='right')"
   ]
  },
  {
   "cell_type": "code",
   "execution_count": null,
   "id": "7cc181b7",
   "metadata": {},
   "outputs": [],
   "source": []
  }
 ],
 "metadata": {
  "kernelspec": {
   "display_name": "Python 3",
   "language": "python",
   "name": "python3"
  },
  "language_info": {
   "codemirror_mode": {
    "name": "ipython",
    "version": 3
   },
   "file_extension": ".py",
   "mimetype": "text/x-python",
   "name": "python",
   "nbconvert_exporter": "python",
   "pygments_lexer": "ipython3",
   "version": "3.12.0"
  }
 },
 "nbformat": 4,
 "nbformat_minor": 5
}
