{
 "cells": [
  {
   "cell_type": "markdown",
   "metadata": {},
   "source": [
    "# What is Exception\n",
    "Exception handling in python allows us to handle errors gracefully and take corrective actions without stopping the execution of the program."
   ]
  },
  {
   "cell_type": "markdown",
   "metadata": {},
   "source": [
    "# Some Common Exceptions\n",
    "Exceptions are events that disrupt the normal flow of a program. They occur when an error encountered during program execution. \n",
    "\n",
    "1. ZeroDivisionError: Dividing by zero\n",
    "2. FileNotFoundError: File not found\n",
    "3. ValueError: Invalid error\n",
    "5. TypeError: Invalid type"
   ]
  },
  {
   "cell_type": "markdown",
   "metadata": {},
   "source": [
    "# try, except block"
   ]
  },
  {
   "cell_type": "markdown",
   "metadata": {},
   "source": [
    "Example 1:"
   ]
  },
  {
   "cell_type": "code",
   "execution_count": 5,
   "metadata": {},
   "outputs": [
    {
     "ename": "NameError",
     "evalue": "name 'b' is not defined",
     "output_type": "error",
     "traceback": [
      "\u001b[31m---------------------------------------------------------------------------\u001b[39m",
      "\u001b[31mNameError\u001b[39m                                 Traceback (most recent call last)",
      "\u001b[36mCell\u001b[39m\u001b[36m \u001b[39m\u001b[32mIn[5]\u001b[39m\u001b[32m, line 1\u001b[39m\n\u001b[32m----> \u001b[39m\u001b[32m1\u001b[39m a=\u001b[43mb\u001b[49m\n",
      "\u001b[31mNameError\u001b[39m: name 'b' is not defined"
     ]
    }
   ],
   "source": [
    "a=b"
   ]
  },
  {
   "cell_type": "code",
   "execution_count": 11,
   "metadata": {},
   "outputs": [
    {
     "name": "stdout",
     "output_type": "stream",
     "text": [
      "name 'b' is not defined\n"
     ]
    }
   ],
   "source": [
    "try:\n",
    "    a=b\n",
    "except NameError as ne:\n",
    "    print(ne)"
   ]
  },
  {
   "cell_type": "markdown",
   "metadata": {},
   "source": [
    "Example 2:"
   ]
  },
  {
   "cell_type": "code",
   "execution_count": 7,
   "metadata": {},
   "outputs": [
    {
     "ename": "ZeroDivisionError",
     "evalue": "division by zero",
     "output_type": "error",
     "traceback": [
      "\u001b[31m---------------------------------------------------------------------------\u001b[39m",
      "\u001b[31mZeroDivisionError\u001b[39m                         Traceback (most recent call last)",
      "\u001b[36mCell\u001b[39m\u001b[36m \u001b[39m\u001b[32mIn[7]\u001b[39m\u001b[32m, line 1\u001b[39m\n\u001b[32m----> \u001b[39m\u001b[32m1\u001b[39m \u001b[38;5;28mprint\u001b[39m(\u001b[32;43m10\u001b[39;49m\u001b[43m/\u001b[49m\u001b[32;43m0\u001b[39;49m)\n",
      "\u001b[31mZeroDivisionError\u001b[39m: division by zero"
     ]
    }
   ],
   "source": [
    "print(10/0)"
   ]
  },
  {
   "cell_type": "code",
   "execution_count": 10,
   "metadata": {},
   "outputs": [
    {
     "name": "stdout",
     "output_type": "stream",
     "text": [
      "division by zero\n",
      "Please enter denominator greater than 0\n"
     ]
    }
   ],
   "source": [
    "try:\n",
    "    result=10/0\n",
    "except ZeroDivisionError as zde:\n",
    "    print(zde)\n",
    "    print(\"Please enter denominator greater than 0\")"
   ]
  },
  {
   "cell_type": "markdown",
   "metadata": {},
   "source": [
    "Example 3: Main Exception"
   ]
  },
  {
   "cell_type": "code",
   "execution_count": 16,
   "metadata": {},
   "outputs": [
    {
     "name": "stdout",
     "output_type": "stream",
     "text": [
      "name 'marks' is not defined\n",
      "Exception caught from main Exception\n"
     ]
    }
   ],
   "source": [
    "try:\n",
    "    result=10/5\n",
    "    a=marks\n",
    "except ZeroDivisionError as zde:\n",
    "    print(zde)\n",
    "    print(\"Please enter denominator greater than 0\")\n",
    "except Exception as main_exc:\n",
    "    print(main_exc)\n",
    "    print(\"Exception caught from main Exception\")"
   ]
  },
  {
   "cell_type": "markdown",
   "metadata": {},
   "source": [
    "Example 4:"
   ]
  },
  {
   "cell_type": "code",
   "execution_count": 19,
   "metadata": {},
   "outputs": [
    {
     "name": "stdout",
     "output_type": "stream",
     "text": [
      "invalid literal for int() with base 10: 'e.5'\n",
      "This is not a valid number\n"
     ]
    }
   ],
   "source": [
    "try:\n",
    "    number=int(input(\"Enter a number: \"))\n",
    "    result=10/number\n",
    "except ValueError as ve:\n",
    "    print(ve)\n",
    "    print(\"This is not a valid number\")\n",
    "except ZeroDivisionError as zde:\n",
    "    print(zde)\n",
    "    print(\"Please enter denominator greater than 0\")\n",
    "except Exception as main:\n",
    "    print(main)\n",
    "    print(\"Exception caught in Main\")"
   ]
  },
  {
   "cell_type": "markdown",
   "metadata": {},
   "source": [
    "# Try, Except, Else Block\n",
    "Example 5:"
   ]
  },
  {
   "cell_type": "code",
   "execution_count": null,
   "metadata": {},
   "outputs": [
    {
     "name": "stdout",
     "output_type": "stream",
     "text": [
      "The result is 3.3333333333333335\n"
     ]
    }
   ],
   "source": [
    "try:\n",
    "    number=int(input(\"Enter a number: \"))\n",
    "    result=10/number\n",
    "except ValueError as ve:\n",
    "    print(ve)\n",
    "    print(\"This is not a valid number\")\n",
    "except ZeroDivisionError as zde:\n",
    "    print(zde)\n",
    "    print(\"Please enter denominator greater than 0\")\n",
    "except Exception as main:\n",
    "    print(main)\n",
    "    print(\"Exception caught in Main\")\n",
    "else:\n",
    "    print(f\"The result is {result}\") #If there is no exception only then Else block will execute"
   ]
  },
  {
   "cell_type": "markdown",
   "metadata": {},
   "source": [
    "# Try, Except, Else and Finally Block\n",
    "Example 6:"
   ]
  },
  {
   "cell_type": "code",
   "execution_count": null,
   "metadata": {},
   "outputs": [
    {
     "name": "stdout",
     "output_type": "stream",
     "text": [
      "division by zero\n",
      "Please enter denominator greater than 0\n",
      "Execution Completed\n"
     ]
    }
   ],
   "source": [
    "try:\n",
    "    number=int(input(\"Enter a number: \"))\n",
    "    result=10/number\n",
    "except ValueError as ve:\n",
    "    print(ve)\n",
    "    print(\"This is not a valid number\")\n",
    "except ZeroDivisionError as zde:\n",
    "    print(zde)\n",
    "    print(\"Please enter denominator greater than 0\")\n",
    "except Exception as main:\n",
    "    print(main)\n",
    "    print(\"Exception caught in Main\")\n",
    "else:\n",
    "    print(f\"The result is {result}\")\n",
    "finally:\n",
    "    print(\"Execution Completed\") # Whether there is error or not this 'finally' block will execute defenately "
   ]
  },
  {
   "cell_type": "markdown",
   "metadata": {},
   "source": [
    "# File Handling and Exception Handling"
   ]
  },
  {
   "cell_type": "code",
   "execution_count": 28,
   "metadata": {},
   "outputs": [
    {
     "name": "stdout",
     "output_type": "stream",
     "text": [
      "name 'b' is not defined\n",
      "File closed\n"
     ]
    }
   ],
   "source": [
    "try:\n",
    "    with open ('Read me.txt', mode='r') as file:\n",
    "        content=file.read()\n",
    "        a=b\n",
    "except FileNotFoundError as fnf:\n",
    "    print(fnf)\n",
    "except Exception as main_ex:\n",
    "    print(main_ex)\n",
    "else:\n",
    "    print(content)\n",
    "finally:\n",
    "    if 'file' in locals() or not file.closed():\n",
    "        file.close()\n",
    "        print(\"File closed\")"
   ]
  },
  {
   "cell_type": "code",
   "execution_count": null,
   "metadata": {},
   "outputs": [],
   "source": []
  }
 ],
 "metadata": {
  "kernelspec": {
   "display_name": "Python 3",
   "language": "python",
   "name": "python3"
  },
  "language_info": {
   "codemirror_mode": {
    "name": "ipython",
    "version": 3
   },
   "file_extension": ".py",
   "mimetype": "text/x-python",
   "name": "python",
   "nbconvert_exporter": "python",
   "pygments_lexer": "ipython3",
   "version": "3.12.0"
  }
 },
 "nbformat": 4,
 "nbformat_minor": 2
}
