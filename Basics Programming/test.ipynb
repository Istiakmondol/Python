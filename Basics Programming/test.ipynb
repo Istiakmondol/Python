{
 "cells": [
  {
   "cell_type": "code",
   "execution_count": 2,
   "metadata": {},
   "outputs": [
    {
     "name": "stdout",
     "output_type": "stream",
     "text": [
      "Hello World\n"
     ]
    }
   ],
   "source": [
    "print (\"Hello World\")"
   ]
  },
  {
   "cell_type": "code",
   "execution_count": null,
   "metadata": {},
   "outputs": [
    {
     "data": {
      "text/plain": [
       "'\\nWelcome to this\\nnew course\\n'"
      ]
     },
     "execution_count": 3,
     "metadata": {},
     "output_type": "execute_result"
    }
   ],
   "source": [
    "## this is the single line comment\n",
    "''' \n",
    "    Welcome to this\n",
    "    new course\n",
    "'''"
   ]
  },
  {
   "cell_type": "code",
   "execution_count": null,
   "metadata": {},
   "outputs": [
    {
     "name": "stdout",
     "output_type": "stream",
     "text": [
      "Istiak\n",
      "Nayem\n"
     ]
    }
   ],
   "source": [
    "## Case sensitivity\n",
    "\n",
    "name=\"Istiak\"\n",
    "Name=\"Nayem\"\n",
    "\n",
    "print(name)\n",
    "print(Name)"
   ]
  },
  {
   "cell_type": "code",
   "execution_count": null,
   "metadata": {},
   "outputs": [
    {
     "name": "stdout",
     "output_type": "stream",
     "text": [
      "false\n"
     ]
    }
   ],
   "source": [
    "## Indentation\n",
    "\n",
    "age=33\n",
    "if(age==32):\n",
    "    print(age)\n",
    "else:\n",
    "    print(\"false\")"
   ]
  },
  {
   "cell_type": "code",
   "execution_count": 9,
   "metadata": {},
   "outputs": [
    {
     "name": "stdout",
     "output_type": "stream",
     "text": [
      "39\n"
     ]
    }
   ],
   "source": [
    "## line continuation\n",
    "total=1+2+3+4+5+6+\\\n",
    "5+6+7\n",
    "\n",
    "print(total)"
   ]
  },
  {
   "cell_type": "code",
   "execution_count": 12,
   "metadata": {},
   "outputs": [
    {
     "name": "stdout",
     "output_type": "stream",
     "text": [
      "15\n"
     ]
    }
   ],
   "source": [
    "## Multiple statement in a single line\n",
    "\n",
    "x=5;y=10;z=x+y\n",
    "\n",
    "print(z)"
   ]
  },
  {
   "cell_type": "code",
   "execution_count": 15,
   "metadata": {},
   "outputs": [
    {
     "name": "stdout",
     "output_type": "stream",
     "text": [
      "<class 'int'>\n",
      "<class 'str'>\n",
      "<class 'str'>\n"
     ]
    }
   ],
   "source": [
    "## type inference\n",
    "\n",
    "variable=10\n",
    "print(type(variable))\n",
    "variable=\"name\"\n",
    "print(type(variable))\n",
    "variable='b'\n",
    "print(type(variable))"
   ]
  },
  {
   "cell_type": "code",
   "execution_count": 16,
   "metadata": {},
   "outputs": [
    {
     "name": "stdout",
     "output_type": "stream",
     "text": [
      "correct indentation\n",
      "inside of the parent if\n",
      "global print\n"
     ]
    }
   ],
   "source": [
    "## code example of indentation\n",
    "if True:\n",
    "    print(\"correct indentation\")\n",
    "    if False:\n",
    "        print(\"Printing for false\")\n",
    "    print(\"inside of the parent if\")\n",
    "print(\"global print\")"
   ]
  },
  {
   "cell_type": "code",
   "execution_count": 3,
   "metadata": {},
   "outputs": [
    {
     "name": "stdout",
     "output_type": "stream",
     "text": [
      "Age:  25\n",
      "Height:  5.7\n",
      "Name:  Istiak\n",
      "Student:  True\n"
     ]
    }
   ],
   "source": [
    "##Declaring and assigning Variablea\n",
    "age=25\n",
    "height=5.7\n",
    "name=\"Istiak\"\n",
    "is_student=True\n",
    "##printing the variables\n",
    "print(\"Age: \",age)\n",
    "print(\"Height: \",height)\n",
    "print(\"Name: \",name)\n",
    "print(\"Student: \",is_student)"
   ]
  },
  {
   "cell_type": "code",
   "execution_count": 13,
   "metadata": {},
   "outputs": [
    {
     "name": "stdout",
     "output_type": "stream",
     "text": [
      "Age is:  25\n",
      "The type of age variable is:  <class 'int'>\n",
      "The type of age_str variable is:  <class 'str'> 25\n",
      "<class 'int'> 25\n"
     ]
    }
   ],
   "source": [
    "##Type checking and Conversion\n",
    "type(height)\n",
    "##type conversion\n",
    "age=25\n",
    "print(\"Age is: \",age)\n",
    "print(\"The type of age variable is: \", type(age))\n",
    "age_str=str(age)\n",
    "print(\"The type of age_str variable is: \", type(age_str), age)\n",
    "##type conversion\n",
    "age_new='25'\n",
    "print(type(int(age_new)),age_new)\n",
    "\n"
   ]
  },
  {
   "cell_type": "code",
   "execution_count": 18,
   "metadata": {},
   "outputs": [
    {
     "name": "stdout",
     "output_type": "stream",
     "text": [
      "10 <class 'int'>\n",
      "hello <class 'str'>\n",
      "10.5 <class 'float'>\n"
     ]
    }
   ],
   "source": [
    "##Dynamic Typing\n",
    "var=10\n",
    "print(var, type(var))\n",
    "var=\"hello\"\n",
    "print(var, type(var))\n",
    "var=10.5\n",
    "print(var, type(var))"
   ]
  },
  {
   "cell_type": "code",
   "execution_count": null,
   "metadata": {},
   "outputs": [
    {
     "name": "stdout",
     "output_type": "stream",
     "text": [
      "input thaken as  <class 'str'>\n",
      "the age is:  25 it is after type conversion <class 'int'>\n"
     ]
    }
   ],
   "source": [
    "## input\n",
    "age=input(\"What is the age of that person:\")\n",
    "print(\"input thaken as \",type(age))\n",
    "age=int(age)\n",
    "print(\"the age is: \",age ,\"it is after type conversion\",type(age))"
   ]
  },
  {
   "cell_type": "code",
   "execution_count": null,
   "metadata": {},
   "outputs": [
    {
     "name": "stdout",
     "output_type": "stream",
     "text": [
      "True\n"
     ]
    }
   ],
   "source": [
    "## Arithmathic Operator\n",
    "a=11\n",
    "b=5\n",
    "add_result=(a+b)\n",
    "sub_result=(a-b)\n",
    "mul_result=(a*b)\n",
    "div_result=(a/b)\n",
    "mod_result=(a%b)\n",
    "floor_div_result=(a//b)\n",
    "exponent_result=(a**b)\n",
    "\n",
    "print(\"Add Result is: \",add_result)\n",
    "print(\"Sub Result is: \",sub_result)\n",
    "print(\"Mul Result is: \",mul_result)\n",
    "print(\"Div Result is: \",div_result)\n",
    "print(\"Mod Result is: \",mod_result)\n",
    "print(\"Floor  is: \",floor_div_result)\n",
    "print(\"Exponent Result is: \",exponent_result)\n",
    "\n",
    "## (==) Comparison Operator\n",
    "a=int(input(\"Enter first number: \"))\n",
    "b=int(input(\"Enter second number: \"))\n",
    "\n",
    "if(a==b):\n",
    "    print(\"both are equal\")\n",
    "else:\n",
    "    print(\"The numbers are: \")\n",
    "    print(\"a = \",a,\"b =\",b)\n",
    "\n",
    "## (==)Comparison Operator\n",
    "name1=\"Istiak\"\n",
    "name2=\"istiak\"##case sensative\n",
    "name1==name2\n",
    "\n",
    "## (!=)Comparison Operator\n",
    "name1=\"Istiak\"\n",
    "name2=\"istiak\"##case sensative\n",
    "name1!=name2\n",
    "\n",
    "## (>) greater than Comparison Operator\n",
    "a=25\n",
    "b=23\n",
    "if a>b:\n",
    "    print(a,\"is grater then\",b)\n",
    "else:\n",
    "    print(b,\"is grater then\",a)\n",
    "\n",
    "## (<) Less than Comparison Operator\n",
    "a=21\n",
    "b=23\n",
    "if a<b:\n",
    "    print(a,\"is less then\",b)\n",
    "else:\n",
    "    print(b,\"is less then\",a)\n",
    "\n",
    "\n",
    "## (>=) greater than equal Comparison Operator\n",
    "a=21\n",
    "b=23\n",
    "if a>=b:\n",
    "    print(a,\"is greater than or equal then\",b)\n",
    "else:\n",
    "    print(b,\"is greater than or equal then\",a)\n",
    "\n",
    "## (>=) less than equal Comparison Operator\n",
    "a=21\n",
    "b=23\n",
    "if a<=b:\n",
    "    print(a,\"is less than or equal then\",b)\n",
    "else:\n",
    "    print(b,\"is less than or equal then\",a)\n",
    "\n",
    "\n",
    "## And operator\n",
    "a=10\n",
    "b=12\n",
    "if(a==10 and b==12):\n",
    "    print(True)\n",
    "else:\n",
    "    print(False)\n",
    "    \n",
    "## Or operator\n",
    "a=10\n",
    "b=12\n",
    "if(a==10 or b==12):\n",
    "    print(True)\n",
    "else:\n",
    "    print(False)\n"
   ]
  },
  {
   "cell_type": "code",
   "execution_count": null,
   "metadata": {},
   "outputs": [
    {
     "name": "stdout",
     "output_type": "stream",
     "text": [
      "you are eligable for this 18+ content\n"
     ]
    }
   ],
   "source": [
    "## if, elif, & else Conditional Statements\n",
    "age=20\n",
    "if age>=18:\n",
    "    print(\"you are eligible for this 18+ content\")\n",
    "elif age<18:\n",
    "    print(\"you are not allowed for this content\")\n",
    "else:\n",
    "    print(\"Try Again...\")\n"
   ]
  },
  {
   "cell_type": "code",
   "execution_count": null,
   "metadata": {},
   "outputs": [
    {
     "name": "stdout",
     "output_type": "stream",
     "text": [
      "2024 is leap year\n"
     ]
    }
   ],
   "source": [
    "\n",
    "##Nested condition\n",
    "##Leap year example\n",
    "year=int(input(\"enter a year: \"))\n",
    "if year % 4 == 0:\n",
    "    if (year % 100==0) and (year % 400 == 0):\n",
    "        print(year,\"is leap year\")\n",
    "    elif (year%100==0) and (year%400!=0):\n",
    "        print(year,\"is not leap year\")\n",
    "    else:\n",
    "        print(year,\"is leap year\")\n",
    "else:\n",
    "    print(year,\"is not leap year\")\n"
   ]
  },
  {
   "cell_type": "markdown",
   "metadata": {},
   "source": [
    "## Loops\n",
    "## For Loop\n",
    "    -iterating over a range\n",
    "    -iterating over a string\n",
    "## While Loop"
   ]
  },
  {
   "cell_type": "code",
   "execution_count": null,
   "metadata": {},
   "outputs": [],
   "source": [
    "## for loop\n",
    "for i in range(1,6):\n",
    "    print(i)\n",
    "print(\"Finish\")\n",
    "\n",
    "## For Loop\n",
    "for i in range(10,1,-2):\n",
    "    print(i)\n",
    "print(\"Finish\")\n",
    "\n",
    "## For Loop\n",
    "str=\"Istiak Mondol\"\n",
    "for i in str:\n",
    "    print(i)"
   ]
  },
  {
   "cell_type": "code",
   "execution_count": null,
   "metadata": {},
   "outputs": [
    {
     "name": "stdout",
     "output_type": "stream",
     "text": [
      "i: 0 and j: I\n",
      "i: 0 and j: s\n",
      "i: 0 and j: t\n",
      "i: 0 and j: i\n",
      "i: 0 and j: a\n",
      "i: 0 and j: k\n",
      "i: 0 and j:  \n",
      "i: 0 and j: M\n",
      "i: 0 and j: o\n",
      "i: 0 and j: n\n",
      "i: 0 and j: d\n",
      "i: 0 and j: o\n",
      "i: 0 and j: l\n",
      "\n",
      "\n",
      "i: 1 and j: I\n",
      "i: 1 and j: s\n",
      "i: 1 and j: t\n",
      "i: 1 and j: i\n",
      "i: 1 and j: a\n",
      "i: 1 and j: k\n",
      "i: 1 and j:  \n",
      "i: 1 and j: M\n",
      "i: 1 and j: o\n",
      "i: 1 and j: n\n",
      "i: 1 and j: d\n",
      "i: 1 and j: o\n",
      "i: 1 and j: l\n",
      "\n",
      "\n"
     ]
    }
   ],
   "source": [
    "## While Loop\n",
    "i=1\n",
    "while(i!=10):\n",
    "    print(i)\n",
    "    i=i+1\n",
    "print(\"Finished\")\n",
    "\n",
    "##While Loop\n",
    "i=0\n",
    "while (i%2==0):\n",
    "    print(i,\"is an Even Number\")\n",
    "    i=i+1\n",
    "    if i%2==1:\n",
    "        if i==11:\n",
    "            break\n",
    "        else:\n",
    "            print(i,\"is an odd Number\")\n",
    "            i=i+1\n",
    "print(\"Finished\")\n",
    "\n",
    "## Nested Loop\n",
    "str=\"Istiak Mondol\"\n",
    "for i in range (2):\n",
    "    for j in str:\n",
    "        print(f\"i: {i} and j: {j}\")\n",
    "        if j=='l':\n",
    "            print(\"\\n\")\n",
    "        \n"
   ]
  },
  {
   "cell_type": "code",
   "execution_count": null,
   "metadata": {},
   "outputs": [
    {
     "name": "stdout",
     "output_type": "stream",
     "text": [
      "result is:  15.5\n"
     ]
    }
   ],
   "source": [
    "##sample calculator\n",
    "num1=float(input(\"Enter first number: \"))\n",
    "num2=float(input(\"Enter second number: \"))\n",
    "\n",
    "operation=int(input(\"Select operation 1) add 2) sub 3) mul. 4) div\"))\n",
    "if operation==1:\n",
    "    print(\"result is: \",num1+num2)\n",
    "elif operation==2:\n",
    "    print(\"result is: \",num1-num2)\n",
    "elif operation==3:\n",
    "    print(\"result is: \",num1*num2)\n",
    "else:\n",
    "    print(\"result is: \",num1/num2)"
   ]
  },
  {
   "cell_type": "code",
   "execution_count": null,
   "metadata": {},
   "outputs": [],
   "source": [
    "## Basic Data Types\n",
    "'''\n",
    "Integer\n",
    "string\n",
    "float\n",
    "boolean\n",
    "'''\n",
    "\n",
    "## Advance Data Types\n",
    "'''\n",
    "List\n",
    "Tuples\n",
    "Sets\n",
    "Dictionaries\n",
    "'''"
   ]
  },
  {
   "cell_type": "code",
   "execution_count": 43,
   "metadata": {},
   "outputs": [
    {
     "name": "stdout",
     "output_type": "stream",
     "text": [
      "False\n",
      "<class 'bool'>\n"
     ]
    }
   ],
   "source": [
    "## Booleans\n",
    "a=10\n",
    "b=12\n",
    "print(a==b)\n",
    "print(type(a==b))"
   ]
  }
 ],
 "metadata": {
  "kernelspec": {
   "display_name": "Python 3",
   "language": "python",
   "name": "python3"
  },
  "language_info": {
   "codemirror_mode": {
    "name": "ipython",
    "version": 3
   },
   "file_extension": ".py",
   "mimetype": "text/x-python",
   "name": "python",
   "nbconvert_exporter": "python",
   "pygments_lexer": "ipython3",
   "version": "3.12.0"
  }
 },
 "nbformat": 4,
 "nbformat_minor": 2
}
