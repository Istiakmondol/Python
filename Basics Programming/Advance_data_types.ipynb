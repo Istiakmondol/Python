{
 "cells": [
  {
   "cell_type": "markdown",
   "metadata": {},
   "source": [
    "## Basic Data Types"
   ]
  },
  {
   "cell_type": "markdown",
   "metadata": {},
   "source": [
    "1. Integer\n",
    "2. string\n",
    "3. float\n",
    "4. boolean"
   ]
  },
  {
   "cell_type": "markdown",
   "metadata": {},
   "source": [
    "## 4. Booleans\n"
   ]
  },
  {
   "cell_type": "code",
   "execution_count": null,
   "metadata": {},
   "outputs": [],
   "source": [
    "a=10\n",
    "b=12\n",
    "print(a==b)\n",
    "print(type(a==b))"
   ]
  },
  {
   "cell_type": "markdown",
   "metadata": {},
   "source": [
    "## Advance Data Types\n",
    "\n",
    "1. List/Array ex. lst=[\"name\", 1, 2, 3.4,True] (it can contain all kind of data types inside it. it behaves like array)\n",
    "2. Tuples ex. tuple=(\"name\", 1, 2, 3.4,True) (Almost same as List)\n",
    "3. Sets ex. set={\"name\", 1, 2, 3.4,True} (Set of unique items)\n",
    "4. Dictionaries"
   ]
  },
  {
   "cell_type": "markdown",
   "metadata": {},
   "source": [
    "## 1. List"
   ]
  },
  {
   "cell_type": "code",
   "execution_count": 38,
   "metadata": {},
   "outputs": [
    {
     "name": "stdout",
     "output_type": "stream",
     "text": [
      "Istiak\n",
      "['Md.', 'Istiak', 'Mondol', 'DOB->', '13-2-2001', 'Height->', 5.7, 'Student->', True]\n",
      "['Istiak', 'Mondol', 'DOB->', '13-2-2001', 'Height->', 5.7, 'Student->', True]\n",
      "['Md.', 'Istiak', 'Mondol']\n",
      "['Md.', 'Istiak', 'Mondol', 'DOB->', '13-2-2001', 'Height->', 5.7, 'Student->', True]\n",
      "True\n",
      "[True, 'Student->', 5.7, 'Height->', '13-2-2001', 'DOB->', 'Mondol', 'Istiak']\n"
     ]
    }
   ],
   "source": [
    "lst=[\"Md.\", \"Istiak\", \"Mondol\",\"DOB->\",\"13-2-2001\",\"Height->\",5.7,\"Student->\",True]\n",
    "print(lst[1])\n",
    "print(lst)\n",
    "print(lst[1:])\n",
    "print(lst[0:3])\n",
    "print(lst[0:9:1])\n",
    "print(lst[-1])\n",
    "print(lst[-1:0:-1])"
   ]
  },
  {
   "cell_type": "markdown",
   "metadata": {},
   "source": [
    "## Modifying the list elements"
   ]
  },
  {
   "cell_type": "code",
   "execution_count": 40,
   "metadata": {},
   "outputs": [
    {
     "name": "stdout",
     "output_type": "stream",
     "text": [
      "['Md.', 'Istiak', 'Nayem', 'DOB->', '13-2-2001', 'Height->', 5.7, 'Student->', True]\n"
     ]
    }
   ],
   "source": [
    "lst=[\"Md.\", \"Istiak\", \"Mondol\",\"DOB->\",\"13-2-2001\",\"Height->\",5.7,\"Student->\",True]\n",
    "lst[2]=\"Nayem\"\n",
    "print(lst)"
   ]
  },
  {
   "cell_type": "code",
   "execution_count": 41,
   "metadata": {},
   "outputs": [
    {
     "name": "stdout",
     "output_type": "stream",
     "text": [
      "['Apple', 'Banana', 'Cherry', 'Kiwi']\n",
      "['Apple', 'Banana', 'Cherry', 'Kiwi', 'Orange']\n"
     ]
    }
   ],
   "source": [
    "fruits=[\"Apple\", \"Banana\", \"Cherry\", \"Kiwi\"]\n",
    "print(fruits)\n",
    "fruits.append(\"Orange\") ## it will add orange at the end of the list\n",
    "print(fruits)"
   ]
  },
  {
   "cell_type": "code",
   "execution_count": 42,
   "metadata": {},
   "outputs": [
    {
     "name": "stdout",
     "output_type": "stream",
     "text": [
      "['Apple', 'Banana', 'Banana', 'Cherry', 'Kiwi', 'Orange']\n",
      "['Apple', 'Watermalon', 'Banana', 'Banana', 'Cherry', 'Kiwi', 'Orange']\n"
     ]
    }
   ],
   "source": [
    "fruits.insert(1,\"Banana\") ## it will insert item at the mentioned position in the list\n",
    "print(fruits)\n",
    "fruits.insert(1,\"Watermalon\") ## it will insert item at the mentioned position in the list\n",
    "print(fruits)"
   ]
  },
  {
   "cell_type": "code",
   "execution_count": 43,
   "metadata": {},
   "outputs": [
    {
     "name": "stdout",
     "output_type": "stream",
     "text": [
      "['Apple', 'Watermalon', 'Banana', 'Cherry', 'Kiwi', 'Orange']\n"
     ]
    }
   ],
   "source": [
    "fruits.remove(\"Banana\") ## it will remove that particular string from the list\n",
    "print(fruits)"
   ]
  },
  {
   "cell_type": "code",
   "execution_count": 44,
   "metadata": {},
   "outputs": [
    {
     "name": "stdout",
     "output_type": "stream",
     "text": [
      "Orange\n",
      "['Apple', 'Watermalon', 'Banana', 'Cherry', 'Kiwi']\n"
     ]
    }
   ],
   "source": [
    "popped_fruits=fruits.pop() ## it will remove and return the last element from the list\n",
    "print(popped_fruits)\n",
    "print(fruits)"
   ]
  },
  {
   "cell_type": "code",
   "execution_count": null,
   "metadata": {},
   "outputs": [
    {
     "name": "stdout",
     "output_type": "stream",
     "text": [
      "['Apple', 'Watermalon', 'Banana', 'Banana', 'Cherry', 'Kiwi']\n",
      "2\n"
     ]
    }
   ],
   "source": [
    "print(fruits.count(\"Banana\")) ## it will count the exact number of that item"
   ]
  },
  {
   "cell_type": "code",
   "execution_count": 53,
   "metadata": {},
   "outputs": [
    {
     "name": "stdout",
     "output_type": "stream",
     "text": [
      "['Apple', 'Banana', 'Banana', 'Cherry', 'Kiwi', 'Watermalon']\n"
     ]
    }
   ],
   "source": [
    "fruits.sort() ## it will sort the items of a list alphabatical order\n",
    "print(fruits)"
   ]
  },
  {
   "cell_type": "code",
   "execution_count": 54,
   "metadata": {},
   "outputs": [
    {
     "name": "stdout",
     "output_type": "stream",
     "text": [
      "['Watermalon', 'Kiwi', 'Cherry', 'Banana', 'Banana', 'Apple']\n"
     ]
    }
   ],
   "source": [
    "fruits.reverse() ## it will reverse the list\n",
    "print(fruits)"
   ]
  },
  {
   "cell_type": "code",
   "execution_count": 55,
   "metadata": {},
   "outputs": [
    {
     "name": "stdout",
     "output_type": "stream",
     "text": [
      "[]\n"
     ]
    }
   ],
   "source": [
    "fruits.clear() ## it will empty the list\n",
    "print(fruits)"
   ]
  },
  {
   "cell_type": "markdown",
   "metadata": {},
   "source": [
    "##Slicing list"
   ]
  },
  {
   "cell_type": "code",
   "execution_count": 56,
   "metadata": {},
   "outputs": [
    {
     "name": "stdout",
     "output_type": "stream",
     "text": [
      "[3, 4, 5]\n",
      "[1, 2, 3, 4, 5]\n",
      "[6, 7, 8, 9]\n",
      "[1, 3, 5, 7, 9]\n",
      "[9, 7, 5, 3, 1]\n"
     ]
    }
   ],
   "source": [
    "num=[1,2,3,4,5,6,7,8,9]\n",
    "print(num[2:5])\n",
    "print(num[:5])\n",
    "print(num[5:])\n",
    "print(num[::2])\n",
    "print(num[::-2])"
   ]
  },
  {
   "cell_type": "markdown",
   "metadata": {},
   "source": [
    "##iterating over list"
   ]
  },
  {
   "cell_type": "code",
   "execution_count": 58,
   "metadata": {},
   "outputs": [
    {
     "name": "stdout",
     "output_type": "stream",
     "text": [
      "['md', 'istiak', 'mondol', 'nayem', 'nahid', 'ragib']\n",
      "['istiak', 'md', 'mondol', 'nahid', 'nayem', 'ragib']\n",
      "istiak\n",
      "md\n",
      "mondol\n",
      "nahid\n",
      "nayem\n",
      "ragib\n"
     ]
    }
   ],
   "source": [
    "\n",
    "name=[\"md\",\"istiak\",\"mondol\",\"nayem\",\"nahid\",\"ragib\"]\n",
    "print(name)\n",
    "name.sort()\n",
    "print(name)\n",
    "\n",
    "for i in name:\n",
    "    print(i)"
   ]
  },
  {
   "cell_type": "code",
   "execution_count": 59,
   "metadata": {},
   "outputs": [
    {
     "name": "stdout",
     "output_type": "stream",
     "text": [
      "0 istiak\n",
      "1 md\n",
      "2 mondol\n",
      "3 nahid\n",
      "4 nayem\n",
      "5 ragib\n"
     ]
    }
   ],
   "source": [
    "for index,i in enumerate(name): # iterate with index also\n",
    "    print(index,i)"
   ]
  },
  {
   "cell_type": "code",
   "execution_count": 60,
   "metadata": {},
   "outputs": [
    {
     "name": "stdout",
     "output_type": "stream",
     "text": [
      "[2, 6, 6, 5, 5, 5]\n"
     ]
    }
   ],
   "source": [
    "lst=[\"md\",\"istiak\",\"mondol\",\"nayem\",\"nahid\",\"ragib\"]\n",
    "length=[]\n",
    "for i in lst:\n",
    "    length.append(len(i))\n",
    "print(length)"
   ]
  },
  {
   "cell_type": "code",
   "execution_count": 61,
   "metadata": {},
   "outputs": [
    {
     "name": "stdout",
     "output_type": "stream",
     "text": [
      "[2, 4, 6, 8, 10]\n"
     ]
    }
   ],
   "source": [
    "lst2=[]\n",
    "for i in range(1,11):\n",
    "    if i%2==0 :\n",
    "        lst2.append(i)\n",
    "print(lst2)"
   ]
  },
  {
   "cell_type": "markdown",
   "metadata": {},
   "source": [
    "Nasted list"
   ]
  },
  {
   "cell_type": "code",
   "execution_count": null,
   "metadata": {},
   "outputs": [],
   "source": [
    "lst=[[1,2,3,4],[1,\"hello\",\"c\"],[1.5,\"hdcb\",4,True]]\n",
    "print(lst[0][3])\n",
    "print(lst[2][:2:1])"
   ]
  },
  {
   "cell_type": "markdown",
   "metadata": {},
   "source": [
    "## 2. Tuples"
   ]
  },
  {
   "cell_type": "code",
   "execution_count": 62,
   "metadata": {},
   "outputs": [
    {
     "name": "stdout",
     "output_type": "stream",
     "text": [
      "<class 'tuple'>\n",
      "<class 'tuple'>\n",
      "<class 'tuple'>\n",
      "(1, 1, 2, 3, 4, 5, 6, 7, 8, 'Md', 'Istiak', 'mondol', 5, 6, 7, False)\n"
     ]
    }
   ],
   "source": [
    "numbers=(1,1,2,3,4,5,6,7,8)\n",
    "print(type(numbers))\n",
    "mixed_tuple=(\"Md\", \"Istiak\", \"mondol\", 5, 6, 7, False)\n",
    "print(type(mixed_tuple))\n",
    "concate_tuple= numbers + mixed_tuple ##add two tuples\n",
    "print(type(concate_tuple))\n",
    "print(concate_tuple)"
   ]
  },
  {
   "cell_type": "markdown",
   "metadata": {},
   "source": [
    "    -Emmutable Nature of Tuples, it means once an element assigned, it can't be changed.\n",
    "    -The procedure of changing an element from tuple is (tuple-> list[make changes with element]-> Tuple) \n",
    "    -numbers=(1,1,2,3,4,5,6,7,8) Here, numbers[1]=\"name\" -> this will give you error (here number is a tuple)\n",
    "    -Example given bellow"
   ]
  },
  {
   "cell_type": "code",
   "execution_count": null,
   "metadata": {},
   "outputs": [
    {
     "name": "stdout",
     "output_type": "stream",
     "text": [
      "<class 'tuple'>\n",
      "(1, 1, 2, 3, 4, 5, 6, 7, 8)\n",
      "<class 'list'>\n",
      "<class 'tuple'>\n",
      "(1, 'Istiak', 1, 2, 3, 4, 5, 6, 7, 8)\n"
     ]
    }
   ],
   "source": [
    "numbers=(1,1,2,3,4,5,6,7,8)\n",
    "print(type(numbers))\n",
    "print(numbers)\n",
    "lst_cnv=list(numbers) #Tuples convert into List\n",
    "print(type(lst_cnv))\n",
    "lst_cnv.insert(1,\"Istiak\") #insert Istiak into the list\n",
    "numbers=tuple(lst_cnv)\n",
    "print(type(numbers))\n",
    "print(numbers)"
   ]
  },
  {
   "cell_type": "markdown",
   "metadata": {},
   "source": [
    "# Touple Method"
   ]
  },
  {
   "cell_type": "code",
   "execution_count": 64,
   "metadata": {},
   "outputs": [
    {
     "name": "stdout",
     "output_type": "stream",
     "text": [
      "2\n",
      "3\n"
     ]
    }
   ],
   "source": [
    "numbers=(1,1,2,3,4,5,6,7,8)\n",
    "print(numbers.count(1)) ## it will count the appearance of that item in the touple\n",
    "print(numbers.index(3)) ## it will show the item at the mentioned index"
   ]
  },
  {
   "cell_type": "markdown",
   "metadata": {},
   "source": [
    "packing Touple"
   ]
  },
  {
   "cell_type": "code",
   "execution_count": 66,
   "metadata": {},
   "outputs": [
    {
     "name": "stdout",
     "output_type": "stream",
     "text": [
      "<class 'tuple'>\n",
      "(1, 'Hello', 3.14)\n"
     ]
    }
   ],
   "source": [
    "packed_tuple=1,\"Hello\",3.14\n",
    "print(type(packed_tuple))\n",
    "print(packed_tuple)"
   ]
  },
  {
   "cell_type": "markdown",
   "metadata": {},
   "source": [
    "Unpacking Touple"
   ]
  },
  {
   "cell_type": "code",
   "execution_count": null,
   "metadata": {},
   "outputs": [],
   "source": [
    "a,b,c=packed_tuple\n",
    "print(a)\n",
    "print(b)\n",
    "print(c)"
   ]
  },
  {
   "cell_type": "markdown",
   "metadata": {},
   "source": [
    "unpacking Touple using star"
   ]
  },
  {
   "cell_type": "code",
   "execution_count": 67,
   "metadata": {},
   "outputs": [
    {
     "name": "stdout",
     "output_type": "stream",
     "text": [
      "1\n",
      "[2, 3, 4, 5]\n",
      "6\n"
     ]
    }
   ],
   "source": [
    "num=(1,2,3,4,5,6)\n",
    "first,*middle,last=num\n",
    "print(first)\n",
    "print(middle)\n",
    "print(last)"
   ]
  },
  {
   "cell_type": "markdown",
   "metadata": {},
   "source": [
    "Nasted tuples"
   ]
  },
  {
   "cell_type": "code",
   "execution_count": 69,
   "metadata": {},
   "outputs": [
    {
     "name": "stdout",
     "output_type": "stream",
     "text": [
      "(3, 2, 1)\n",
      "('c', 'b', 'a')\n"
     ]
    }
   ],
   "source": [
    "nested_tuples=((1,2,3),(\"a\",\"b\",\"c\"),(True,False))\n",
    "print(nested_tuples[0][::-1])\n",
    "print(nested_tuples[1][::-1])"
   ]
  },
  {
   "cell_type": "markdown",
   "metadata": {},
   "source": [
    "iterating over tuples through loop"
   ]
  },
  {
   "cell_type": "code",
   "execution_count": 70,
   "metadata": {},
   "outputs": [
    {
     "name": "stdout",
     "output_type": "stream",
     "text": [
      "1 2 3 \n",
      "a b c \n",
      "True False \n"
     ]
    }
   ],
   "source": [
    "for i in nested_tuples:\n",
    "    for j in i:\n",
    "        print(j,end=\" \")\n",
    "    print()"
   ]
  },
  {
   "cell_type": "markdown",
   "metadata": {},
   "source": [
    "## Set"
   ]
  },
  {
   "cell_type": "markdown",
   "metadata": {},
   "source": [
    "create a set"
   ]
  },
  {
   "cell_type": "code",
   "execution_count": 71,
   "metadata": {},
   "outputs": [
    {
     "name": "stdout",
     "output_type": "stream",
     "text": [
      "<class 'set'>\n",
      "{1, 2, 3, 4, 5, 6, 7, 'istiak'}\n"
     ]
    }
   ],
   "source": [
    "my_set={1,2,3,4,5,6,7,\"istiak\"}\n",
    "print(type(my_set))\n",
    "print(my_set)"
   ]
  },
  {
   "cell_type": "markdown",
   "metadata": {},
   "source": [
    "create empty set"
   ]
  },
  {
   "cell_type": "code",
   "execution_count": 72,
   "metadata": {},
   "outputs": [
    {
     "name": "stdout",
     "output_type": "stream",
     "text": [
      "<class 'set'>\n",
      "set()\n"
     ]
    }
   ],
   "source": [
    "my_empty_set=set()\n",
    "print(type(my_empty_set))\n",
    "print(my_empty_set)"
   ]
  },
  {
   "cell_type": "markdown",
   "metadata": {},
   "source": [
    "basic operation of set"
   ]
  },
  {
   "cell_type": "code",
   "execution_count": 74,
   "metadata": {},
   "outputs": [
    {
     "name": "stdout",
     "output_type": "stream",
     "text": [
      "<class 'set'>\n",
      "{1, 2, 3, 4, 5}\n"
     ]
    }
   ],
   "source": [
    "empty_set=set([1,2,3,4,5])\n",
    "print(type(empty_set))\n",
    "print(empty_set)"
   ]
  },
  {
   "cell_type": "markdown",
   "metadata": {},
   "source": [
    "duplicate element of set"
   ]
  },
  {
   "cell_type": "code",
   "execution_count": 75,
   "metadata": {},
   "outputs": [
    {
     "name": "stdout",
     "output_type": "stream",
     "text": [
      "{1, 2, 3, 4, 5}\n"
     ]
    }
   ],
   "source": [
    "empty_set=set([1,2,3,4,5,3,2,4])\n",
    "print(empty_set)"
   ]
  },
  {
   "cell_type": "markdown",
   "metadata": {},
   "source": [
    "Adding element"
   ]
  },
  {
   "cell_type": "code",
   "execution_count": 79,
   "metadata": {},
   "outputs": [
    {
     "name": "stdout",
     "output_type": "stream",
     "text": [
      "{1, 2, 3, 4, 5, 6, 7, 'Mondol', 'istiak'}\n"
     ]
    }
   ],
   "source": [
    "my_set={1,2,3,4,5,6,7,\"istiak\"}\n",
    "my_set.add(\"Mondol\")\n",
    "print(my_set)"
   ]
  },
  {
   "cell_type": "markdown",
   "metadata": {},
   "source": [
    "Removing elements"
   ]
  },
  {
   "cell_type": "code",
   "execution_count": 80,
   "metadata": {},
   "outputs": [
    {
     "name": "stdout",
     "output_type": "stream",
     "text": [
      "{1, 2, 3, 4, 5, 6, 7}\n"
     ]
    }
   ],
   "source": [
    "my_set={1,2,3,4,5,6,7,\"istiak\"}\n",
    "my_set.remove(\"istiak\")\n",
    "print(my_set)"
   ]
  },
  {
   "cell_type": "markdown",
   "metadata": {},
   "source": [
    "Won't give error if the element is not present there"
   ]
  },
  {
   "cell_type": "code",
   "execution_count": 81,
   "metadata": {},
   "outputs": [
    {
     "name": "stdout",
     "output_type": "stream",
     "text": [
      "{1, 2, 3, 4, 5, 6, 7, 'istiak'}\n"
     ]
    }
   ],
   "source": [
    "my_set={1,2,3,4,5,6,7,\"istiak\"}\n",
    "my_set.discard(10)\n",
    "print(my_set)"
   ]
  },
  {
   "cell_type": "markdown",
   "metadata": {},
   "source": [
    "Removing elements using pop method"
   ]
  },
  {
   "cell_type": "code",
   "execution_count": 82,
   "metadata": {},
   "outputs": [
    {
     "name": "stdout",
     "output_type": "stream",
     "text": [
      "1\n",
      "{2, 3, 4, 5, 6, 7, 'istiak'}\n"
     ]
    }
   ],
   "source": [
    "my_set={1,2,3,4,5,6,7,\"istiak\"}\n",
    "removed_element=my_set.pop()\n",
    "print(removed_element)\n",
    "print(my_set)"
   ]
  },
  {
   "cell_type": "markdown",
   "metadata": {},
   "source": [
    "clear all the elements"
   ]
  },
  {
   "cell_type": "code",
   "execution_count": 83,
   "metadata": {},
   "outputs": [
    {
     "name": "stdout",
     "output_type": "stream",
     "text": [
      "set()\n"
     ]
    }
   ],
   "source": [
    "my_set.clear()\n",
    "print(my_set)"
   ]
  },
  {
   "cell_type": "markdown",
   "metadata": {},
   "source": [
    "# set membership test"
   ]
  },
  {
   "cell_type": "code",
   "execution_count": 85,
   "metadata": {},
   "outputs": [
    {
     "name": "stdout",
     "output_type": "stream",
     "text": [
      "True\n",
      "False\n"
     ]
    }
   ],
   "source": [
    "my_set={1,2,3,4,5}\n",
    "print(3 in my_set)\n",
    "print(9 in my_set)"
   ]
  },
  {
   "cell_type": "markdown",
   "metadata": {},
   "source": [
    "# Mathematical operation"
   ]
  },
  {
   "cell_type": "code",
   "execution_count": 87,
   "metadata": {},
   "outputs": [],
   "source": [
    "my_set={1,2,3,4,5,6}\n",
    "my_set2={3,4,5,6,7,8,9}"
   ]
  },
  {
   "cell_type": "markdown",
   "metadata": {},
   "source": [
    "Union"
   ]
  },
  {
   "cell_type": "code",
   "execution_count": 95,
   "metadata": {},
   "outputs": [
    {
     "name": "stdout",
     "output_type": "stream",
     "text": [
      "{1, 2, 3, 4, 5, 6, 7}\n"
     ]
    }
   ],
   "source": [
    "union_set=my_set.union(my_set2)\n",
    "print(union_set)"
   ]
  },
  {
   "cell_type": "markdown",
   "metadata": {},
   "source": [
    "Intersection"
   ]
  },
  {
   "cell_type": "code",
   "execution_count": 89,
   "metadata": {},
   "outputs": [
    {
     "name": "stdout",
     "output_type": "stream",
     "text": [
      "{3, 4, 5, 6}\n"
     ]
    }
   ],
   "source": [
    "intersection_set=my_set.intersection(my_set2)\n",
    "print(intersection_set)"
   ]
  },
  {
   "cell_type": "markdown",
   "metadata": {},
   "source": [
    "Intersection_Update"
   ]
  },
  {
   "cell_type": "code",
   "execution_count": 90,
   "metadata": {},
   "outputs": [
    {
     "name": "stdout",
     "output_type": "stream",
     "text": [
      "{3, 4, 5, 6}\n"
     ]
    }
   ],
   "source": [
    "intersection_update_set= my_set.intersection_update(my_set2)\n",
    "print(my_set)"
   ]
  },
  {
   "cell_type": "markdown",
   "metadata": {},
   "source": [
    "Difference"
   ]
  },
  {
   "cell_type": "code",
   "execution_count": 91,
   "metadata": {},
   "outputs": [
    {
     "name": "stdout",
     "output_type": "stream",
     "text": [
      "{1, 2}\n"
     ]
    }
   ],
   "source": [
    "my_set={1,2,3,4,5}\n",
    "my_set2={3,4,5,6,7}\n",
    "Diffrence_set= my_set.difference(my_set2)\n",
    "print(Diffrence_set)"
   ]
  },
  {
   "cell_type": "markdown",
   "metadata": {},
   "source": [
    "Difference_update"
   ]
  },
  {
   "cell_type": "code",
   "execution_count": 92,
   "metadata": {},
   "outputs": [
    {
     "name": "stdout",
     "output_type": "stream",
     "text": [
      "{1, 2}\n"
     ]
    }
   ],
   "source": [
    "Diffrence_set= my_set.difference_update(my_set2)\n",
    "print(my_set)"
   ]
  },
  {
   "cell_type": "markdown",
   "metadata": {},
   "source": [
    "Symmetric Difference"
   ]
  },
  {
   "cell_type": "code",
   "execution_count": 93,
   "metadata": {},
   "outputs": [
    {
     "name": "stdout",
     "output_type": "stream",
     "text": [
      "{1, 2, 6, 7}\n"
     ]
    }
   ],
   "source": [
    "my_set={1,2,3,4,5}\n",
    "my_set2={3,4,5,6,7}\n",
    "Sym_Diffrence_set= my_set.symmetric_difference(my_set2)\n",
    "print(Sym_Diffrence_set)"
   ]
  },
  {
   "cell_type": "markdown",
   "metadata": {},
   "source": [
    "# Set Method\n",
    "#is subset?"
   ]
  },
  {
   "cell_type": "code",
   "execution_count": null,
   "metadata": {},
   "outputs": [],
   "source": [
    "my_set={1,2,3,4,5,6,7}\n",
    "my_set2={3,4,5,6,7}\n",
    "subset_set=my_set2.issubset(my_set)\n",
    "if subset_set==True:\n",
    "    print(\"Yes\")\n",
    "else:\n",
    "    print(\"No\")"
   ]
  },
  {
   "cell_type": "markdown",
   "metadata": {},
   "source": [
    "Super set"
   ]
  },
  {
   "cell_type": "code",
   "execution_count": null,
   "metadata": {},
   "outputs": [],
   "source": [
    "super_set=my_set.issuperset(my_set2)\n",
    "if super_set==True:\n",
    "    print(\"Yes Super set\")\n",
    "else:\n",
    "    print(\"Not super set\")"
   ]
  },
  {
   "cell_type": "markdown",
   "metadata": {},
   "source": [
    "counting unique words is text"
   ]
  },
  {
   "cell_type": "code",
   "execution_count": 98,
   "metadata": {},
   "outputs": [
    {
     "name": "stdout",
     "output_type": "stream",
     "text": [
      "<class 'list'>\n",
      "{'we', 'are', 'operation', 'set', 'learning'}\n",
      "5\n"
     ]
    }
   ],
   "source": [
    "text=\"we are learning set operation\"\n",
    "word=text.split()\n",
    "print(type(word)) ## it is in 'List'\n",
    "unique_words=set(word) ##now it has converted to 'Set'\n",
    "print(unique_words)\n",
    "print(len(unique_words))"
   ]
  },
  {
   "cell_type": "markdown",
   "metadata": {},
   "source": [
    "# Dictionary\n",
    "Create Empty Dictionary"
   ]
  },
  {
   "cell_type": "code",
   "execution_count": 99,
   "metadata": {},
   "outputs": [
    {
     "name": "stdout",
     "output_type": "stream",
     "text": [
      "<class 'dict'>\n"
     ]
    }
   ],
   "source": [
    "empty_dic={}\n",
    "print(type(empty_dic))"
   ]
  },
  {
   "cell_type": "code",
   "execution_count": 100,
   "metadata": {},
   "outputs": [
    {
     "name": "stdout",
     "output_type": "stream",
     "text": [
      "<class 'dict'>\n"
     ]
    }
   ],
   "source": [
    "empty_dic=dict()\n",
    "print(type(empty_dic))"
   ]
  },
  {
   "cell_type": "markdown",
   "metadata": {},
   "source": [
    " Single keys is always used"
   ]
  },
  {
   "cell_type": "code",
   "execution_count": 101,
   "metadata": {},
   "outputs": [
    {
     "name": "stdout",
     "output_type": "stream",
     "text": [
      "{'Name': 'Istiak', 'Age': 24, 'grade': 16}\n",
      "<class 'dict'>\n"
     ]
    }
   ],
   "source": [
    "student={\"Name\": \"Istiak\", \"Age\":24, \"grade\":16}\n",
    "print(student)\n",
    "print(type(student))"
   ]
  },
  {
   "cell_type": "markdown",
   "metadata": {},
   "source": [
    "Accessing dictionary Elements"
   ]
  },
  {
   "cell_type": "code",
   "execution_count": 104,
   "metadata": {},
   "outputs": [
    {
     "name": "stdout",
     "output_type": "stream",
     "text": [
      "Grade: A\n",
      "Age: 24\n"
     ]
    }
   ],
   "source": [
    "student={\"Name\": \"Istiak\", \"Age\":24, \"Grade\":'A'}\n",
    "print(f\"Grade: {student[\"Grade\"]}\")\n",
    "print(f\"Age: {student[\"Age\"]}\")"
   ]
  },
  {
   "cell_type": "markdown",
   "metadata": {},
   "source": [
    "Accessing using method"
   ]
  },
  {
   "cell_type": "code",
   "execution_count": 105,
   "metadata": {},
   "outputs": [
    {
     "name": "stdout",
     "output_type": "stream",
     "text": [
      "24\n",
      "Not Available\n"
     ]
    }
   ],
   "source": [
    "print(student.get('Age'))\n",
    "print(student.get('last_name', \"Not Available\"))"
   ]
  },
  {
   "cell_type": "markdown",
   "metadata": {},
   "source": [
    "Dictionary is Mutable, so you can add, update, and delete elements"
   ]
  },
  {
   "cell_type": "code",
   "execution_count": null,
   "metadata": {},
   "outputs": [
    {
     "name": "stdout",
     "output_type": "stream",
     "text": [
      "{'Name': 'Istiak', 'Age': 24, 'Grade': 'A'}\n",
      "{'Name': 'Istiak', 'Age': 26, 'Grade': 'A'}\n"
     ]
    }
   ],
   "source": [
    "student={\"Name\": \"Istiak\", \"Age\":24, \"Grade\":'A'}\n",
    "print(student)\n",
    "student[\"Age\"]=26 ##Updated the value\n",
    "print(student)"
   ]
  },
  {
   "cell_type": "code",
   "execution_count": 111,
   "metadata": {},
   "outputs": [
    {
     "name": "stdout",
     "output_type": "stream",
     "text": [
      "{'Name': 'Istiak', 'Age': 26, 'Grade': 'A', 'Address': 'Bangladesh'}\n"
     ]
    }
   ],
   "source": [
    "student[\"Address\"]=\"Bangladesh\" ##Added a new key & value\n",
    "print(student)"
   ]
  },
  {
   "cell_type": "code",
   "execution_count": 112,
   "metadata": {},
   "outputs": [
    {
     "name": "stdout",
     "output_type": "stream",
     "text": [
      "{'Name': 'Istiak', 'Age': 26, 'Address': 'Bangladesh'}\n"
     ]
    }
   ],
   "source": [
    "del student[\"Grade\"] ##Delete keys and value pair\n",
    "print(student)"
   ]
  },
  {
   "cell_type": "markdown",
   "metadata": {},
   "source": [
    "Common Dectionary Methods"
   ]
  },
  {
   "cell_type": "code",
   "execution_count": null,
   "metadata": {},
   "outputs": [
    {
     "name": "stdout",
     "output_type": "stream",
     "text": [
      "dict_keys(['Name', 'Age', 'Grade'])\n",
      "<class 'dict_keys'>\n"
     ]
    }
   ],
   "source": [
    "student={\"Name\": \"Istiak\", \"Age\":24, \"Grade\":'A'}\n",
    "keys=student.keys() # it will stoire all the keys of student dic\n",
    "print(keys)"
   ]
  },
  {
   "cell_type": "code",
   "execution_count": 118,
   "metadata": {},
   "outputs": [
    {
     "name": "stdout",
     "output_type": "stream",
     "text": [
      "dict_values(['Istiak', 24, 'A'])\n"
     ]
    }
   ],
   "source": [
    "values=student.values() #it will store all the values of student dic\n",
    "print(values)"
   ]
  },
  {
   "cell_type": "code",
   "execution_count": 119,
   "metadata": {},
   "outputs": [
    {
     "name": "stdout",
     "output_type": "stream",
     "text": [
      "dict_items([('Name', 'Istiak'), ('Age', 24), ('Grade', 'A')])\n"
     ]
    }
   ],
   "source": [
    "items=student.items() #it will store all value pairs of student Dic\n",
    "print(items)"
   ]
  },
  {
   "cell_type": "markdown",
   "metadata": {},
   "source": [
    "Shallow Copy Very very Important"
   ]
  },
  {
   "cell_type": "code",
   "execution_count": 121,
   "metadata": {},
   "outputs": [
    {
     "name": "stdout",
     "output_type": "stream",
     "text": [
      "{'Name': 'Istiak', 'Age': 24, 'Grade': 'A'}\n",
      "{'Name': 'Istiak', 'Age': 24, 'Grade': 'A'}\n",
      "{'Name': 'Istiak2', 'Age': 24, 'Grade': 'A'}\n",
      "{'Name': 'Istiak2', 'Age': 24, 'Grade': 'A'}\n",
      "{'Name': 'Istiak', 'Age': 24, 'Grade': 'A'}\n",
      "{'Name': 'Istiak2', 'Age': 24, 'Grade': 'A'}\n"
     ]
    }
   ],
   "source": [
    "student={\"Name\": \"Istiak\", \"Age\":24, \"Grade\":'A'}\n",
    "student_copy=student\n",
    "print(student)\n",
    "print(student_copy)\n",
    "\n",
    "student[\"Name\"]=\"Istiak2\"\n",
    "print(student)\n",
    "print(student_copy)\n",
    "\n",
    "student_copy1=student.copy() ##Shallow Copy\n",
    "student[\"Name\"]=\"Istiak\"\n",
    "print(student)\n",
    "print(student_copy1)"
   ]
  },
  {
   "cell_type": "markdown",
   "metadata": {},
   "source": [
    "#We can use loops to iterate over dictionaries, Keys, values, or items"
   ]
  },
  {
   "cell_type": "markdown",
   "metadata": {},
   "source": [
    "iterating over keys"
   ]
  },
  {
   "cell_type": "code",
   "execution_count": 125,
   "metadata": {},
   "outputs": [
    {
     "name": "stdout",
     "output_type": "stream",
     "text": [
      "Keys: Name\n",
      "Keys: Age\n",
      "Keys: Grade\n"
     ]
    }
   ],
   "source": [
    "student={\"Name\": \"Istiak\", \"Age\":24, \"Grade\":'A'}\n",
    "for i in student.keys():\n",
    "    print(f\"Keys: {i}\")"
   ]
  },
  {
   "cell_type": "markdown",
   "metadata": {},
   "source": [
    "iterating over values"
   ]
  },
  {
   "cell_type": "code",
   "execution_count": 126,
   "metadata": {},
   "outputs": [
    {
     "name": "stdout",
     "output_type": "stream",
     "text": [
      "Values: Istiak\n",
      "Values: 24\n",
      "Values: A\n"
     ]
    }
   ],
   "source": [
    "for i in student.values():\n",
    "    print(f\"Values: {i}\")"
   ]
  },
  {
   "cell_type": "markdown",
   "metadata": {},
   "source": [
    "iterating over key, Value pair (Items)"
   ]
  },
  {
   "cell_type": "code",
   "execution_count": 130,
   "metadata": {},
   "outputs": [
    {
     "name": "stdout",
     "output_type": "stream",
     "text": [
      "\n",
      "Name: Istiak\n",
      "Age: 24\n",
      "Grade: A\n"
     ]
    }
   ],
   "source": [
    "print()\n",
    "for key,values in student.items():\n",
    "    print(f\"{key}: {values}\")"
   ]
  },
  {
   "cell_type": "markdown",
   "metadata": {},
   "source": [
    "Nested Dictionaries"
   ]
  },
  {
   "cell_type": "code",
   "execution_count": 134,
   "metadata": {},
   "outputs": [
    {
     "name": "stdout",
     "output_type": "stream",
     "text": [
      "Istiak\n",
      "24\n",
      "\n",
      "Nayem\n",
      "26\n"
     ]
    }
   ],
   "source": [
    "students={\n",
    "    \"student1\":{\"Name\":\"Istiak\", \"Age\" : 24},\n",
    "    \"student2\":{\"Name\":\"Mondol\", \"Age\" : 25},\n",
    "    \"student3\":{\"Name\":\"Nayem\", \"Age\" : 26}\n",
    "}\n",
    "print(students[\"student1\"][\"Name\"])\n",
    "print(students[\"student1\"][\"Age\"])\n",
    "print()\n",
    "print(students[\"student3\"][\"Name\"])\n",
    "print(students[\"student3\"][\"Age\"])"
   ]
  },
  {
   "cell_type": "markdown",
   "metadata": {},
   "source": [
    "Iterating over nested dictionaries using loops"
   ]
  },
  {
   "cell_type": "code",
   "execution_count": 135,
   "metadata": {},
   "outputs": [
    {
     "name": "stdout",
     "output_type": "stream",
     "text": [
      "student1: \n",
      "Name : Istiak\n",
      "Age : 24\n",
      "student2: \n",
      "Name : Mondol\n",
      "Age : 25\n",
      "student3: \n",
      "Name : Nayem\n",
      "Age : 26\n"
     ]
    }
   ],
   "source": [
    "for student_id,student_info in students.items():\n",
    "    print(f\"{student_id}: \")\n",
    "    for name,age in student_info.items():\n",
    "        print(name,\":\",age)"
   ]
  },
  {
   "cell_type": "markdown",
   "metadata": {},
   "source": [
    "Dictionary Comprehension"
   ]
  },
  {
   "cell_type": "code",
   "execution_count": 136,
   "metadata": {},
   "outputs": [
    {
     "name": "stdout",
     "output_type": "stream",
     "text": [
      "{0: 0, 1: 1, 2: 4, 3: 9, 4: 16, 5: 25}\n"
     ]
    }
   ],
   "source": [
    "squares={x:x**2 for x in range(6)}\n",
    "print(squares)"
   ]
  },
  {
   "cell_type": "markdown",
   "metadata": {},
   "source": [
    "Conditional Dictionary Comprehension"
   ]
  },
  {
   "cell_type": "code",
   "execution_count": null,
   "metadata": {},
   "outputs": [],
   "source": [
    "squares={i:i**2 for i in range(11) if i%2==0}\n",
    "print(squares)"
   ]
  },
  {
   "cell_type": "markdown",
   "metadata": {},
   "source": [
    "use a dictionary to count the frequency of elements in list"
   ]
  },
  {
   "cell_type": "code",
   "execution_count": null,
   "metadata": {},
   "outputs": [
    {
     "name": "stdout",
     "output_type": "stream",
     "text": [
      "<class 'dict'>\n",
      "{1: 1, 2: 2, 3: 3, 4: 4}\n"
     ]
    }
   ],
   "source": [
    "number=[1,2,2,3,3,3,4,4,4,4]\n",
    "freq={}\n",
    "for i in number:\n",
    "    if i in freq:\n",
    "        freq[i]+=1\n",
    "    else:\n",
    "        freq[i]=1\n",
    "print(freq)"
   ]
  },
  {
   "cell_type": "markdown",
   "metadata": {},
   "source": [
    "#Merge two dictionaries"
   ]
  },
  {
   "cell_type": "code",
   "execution_count": null,
   "metadata": {},
   "outputs": [],
   "source": [
    "dic1={\"a\":1, \"b\":2}\n",
    "dic2={\"b\":3,\"c\":4}\n",
    "merged_dic={**dic1,**dic2}\n",
    "print(merged_dic)"
   ]
  }
 ],
 "metadata": {
  "kernelspec": {
   "display_name": "Python 3",
   "language": "python",
   "name": "python3"
  },
  "language_info": {
   "codemirror_mode": {
    "name": "ipython",
    "version": 3
   },
   "file_extension": ".py",
   "mimetype": "text/x-python",
   "name": "python",
   "nbconvert_exporter": "python",
   "pygments_lexer": "ipython3",
   "version": "3.12.0"
  }
 },
 "nbformat": 4,
 "nbformat_minor": 2
}
