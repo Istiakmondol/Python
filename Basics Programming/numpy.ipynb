{
 "cells": [
  {
   "cell_type": "code",
   "execution_count": 1,
   "id": "4d9cd88f",
   "metadata": {},
   "outputs": [
    {
     "name": "stdout",
     "output_type": "stream",
     "text": [
      "Requirement already satisfied: numpy in c:\\users\\mmond\\venv\\lib\\site-packages (2.2.4)\n"
     ]
    }
   ],
   "source": [
    "!pip install numpy"
   ]
  },
  {
   "cell_type": "markdown",
   "id": "d3b72abb",
   "metadata": {},
   "source": [
    "Import numpy first"
   ]
  },
  {
   "cell_type": "code",
   "execution_count": 2,
   "id": "2d8acf2a",
   "metadata": {},
   "outputs": [],
   "source": [
    "import numpy as np"
   ]
  },
  {
   "cell_type": "markdown",
   "id": "a449d6c9",
   "metadata": {},
   "source": [
    "Create 1D array using numpy"
   ]
  },
  {
   "cell_type": "code",
   "execution_count": 5,
   "id": "5000ba01",
   "metadata": {},
   "outputs": [
    {
     "name": "stdout",
     "output_type": "stream",
     "text": [
      "[1 2 3 4 5]\n",
      "<class 'numpy.ndarray'>\n",
      "(5,)\n"
     ]
    }
   ],
   "source": [
    "arr1=np.array([1,2,3,4,5])\n",
    "print(arr1)\n",
    "print(type(arr1))\n",
    "print(arr1.shape)"
   ]
  },
  {
   "cell_type": "markdown",
   "id": "480c33d8",
   "metadata": {},
   "source": [
    "1D array using Reshaping"
   ]
  },
  {
   "cell_type": "code",
   "execution_count": null,
   "id": "cc374e86",
   "metadata": {},
   "outputs": [
    {
     "name": "stdout",
     "output_type": "stream",
     "text": [
      "(1, 7)\n"
     ]
    }
   ],
   "source": [
    "arr2=np.array([1,2,3,4,5,6,7]) # manually (arr2=np.array([[1,2,3,4,5,6,7]])\n",
    "arr2=arr2.reshape(1,7) # 1 row and 7 columns\n",
    "print(arr2.shape)"
   ]
  },
  {
   "cell_type": "markdown",
   "id": "b1a8a609",
   "metadata": {},
   "source": [
    "2D Array"
   ]
  },
  {
   "cell_type": "code",
   "execution_count": 12,
   "id": "e59df48b",
   "metadata": {},
   "outputs": [
    {
     "name": "stdout",
     "output_type": "stream",
     "text": [
      "[[1 2 3 4 5]\n",
      " [1 2 3 4 5]]\n",
      "(2, 5)\n"
     ]
    }
   ],
   "source": [
    "arr3=np.array([[1,2,3,4,5],[1,2,3,4,5]])\n",
    "print(arr3)\n",
    "print(arr3.shape)"
   ]
  },
  {
   "cell_type": "markdown",
   "id": "38639f1d",
   "metadata": {},
   "source": [
    "# Functions"
   ]
  },
  {
   "cell_type": "code",
   "execution_count": 66,
   "id": "691cbf71",
   "metadata": {},
   "outputs": [
    {
     "data": {
      "text/plain": [
       "array([[0],\n",
       "       [2],\n",
       "       [4],\n",
       "       [6],\n",
       "       [8]])"
      ]
     },
     "execution_count": 66,
     "metadata": {},
     "output_type": "execute_result"
    }
   ],
   "source": [
    "np.arange(0,10,2).reshape(5,1)"
   ]
  },
  {
   "cell_type": "code",
   "execution_count": null,
   "id": "43b48d32",
   "metadata": {},
   "outputs": [
    {
     "data": {
      "text/plain": [
       "array([[1., 1., 1., 1.],\n",
       "       [1., 1., 1., 1.],\n",
       "       [1., 1., 1., 1.]])"
      ]
     },
     "execution_count": 20,
     "metadata": {},
     "output_type": "execute_result"
    }
   ],
   "source": [
    "np.ones((3,4)) #create a n x m dim array on 1's"
   ]
  },
  {
   "cell_type": "markdown",
   "id": "99996899",
   "metadata": {},
   "source": [
    "Identity Matrix"
   ]
  },
  {
   "cell_type": "code",
   "execution_count": 22,
   "id": "9828571a",
   "metadata": {},
   "outputs": [
    {
     "data": {
      "text/plain": [
       "array([[1., 0., 0., 0., 0.],\n",
       "       [0., 1., 0., 0., 0.],\n",
       "       [0., 0., 1., 0., 0.],\n",
       "       [0., 0., 0., 1., 0.],\n",
       "       [0., 0., 0., 0., 1.]])"
      ]
     },
     "execution_count": 22,
     "metadata": {},
     "output_type": "execute_result"
    }
   ],
   "source": [
    "np.eye(5)"
   ]
  },
  {
   "cell_type": "markdown",
   "id": "f633467e",
   "metadata": {},
   "source": [
    "Attributes of Numpy Array"
   ]
  },
  {
   "cell_type": "code",
   "execution_count": 29,
   "id": "7aa614ab",
   "metadata": {},
   "outputs": [
    {
     "name": "stdout",
     "output_type": "stream",
     "text": [
      "Array:\n",
      " [[1 2 3 4 5]\n",
      " [2 3 4 5 6]]\n",
      "Shape: (2, 5)\n",
      "Number of Dimension: 2\n",
      "Size (Number of Elements): 10\n",
      "Data Type: int64\n",
      "Item Size (in Bytes): 8\n"
     ]
    }
   ],
   "source": [
    "arr=np.array([[1,2,3,4,5],[2,3,4,5,6]])\n",
    "print(\"Array:\\n\",arr)\n",
    "print(\"Shape:\",arr.shape)\n",
    "print(\"Number of Dimension:\",arr.ndim)\n",
    "print(\"Size (Number of Elements):\",arr.size)\n",
    "print(\"Data Type:\",arr.dtype) #May vary depend on platform\n",
    "print(\"Item Size (in Bytes):\",arr.itemsize)"
   ]
  },
  {
   "cell_type": "markdown",
   "id": "5f2d18d6",
   "metadata": {},
   "source": [
    "# Numpy Vectorized Operation"
   ]
  },
  {
   "cell_type": "code",
   "execution_count": 32,
   "id": "47379816",
   "metadata": {},
   "outputs": [],
   "source": [
    "arr1=np.array([1,2,3,4,5])\n",
    "arr2=np.array([10,20,30,40,50])"
   ]
  },
  {
   "cell_type": "markdown",
   "id": "b9042ed8",
   "metadata": {},
   "source": [
    "element wise addition"
   ]
  },
  {
   "cell_type": "code",
   "execution_count": 34,
   "id": "b84e89d3",
   "metadata": {},
   "outputs": [
    {
     "name": "stdout",
     "output_type": "stream",
     "text": [
      "[11 22 33 44 55]\n",
      "<class 'numpy.ndarray'>\n"
     ]
    }
   ],
   "source": [
    "arr3=arr1+arr2\n",
    "print(arr3)\n",
    "print(type(arr3))"
   ]
  },
  {
   "cell_type": "markdown",
   "id": "8e9bd0f1",
   "metadata": {},
   "source": [
    "element wise subtraction"
   ]
  },
  {
   "cell_type": "code",
   "execution_count": 35,
   "id": "0c694147",
   "metadata": {},
   "outputs": [
    {
     "name": "stdout",
     "output_type": "stream",
     "text": [
      "[ -9 -18 -27 -36 -45]\n",
      "<class 'numpy.ndarray'>\n"
     ]
    }
   ],
   "source": [
    "arr3=arr1-arr2\n",
    "print(arr3)\n",
    "print(type(arr3))"
   ]
  },
  {
   "cell_type": "markdown",
   "id": "ffd3f67d",
   "metadata": {},
   "source": [
    "element wise multiplication"
   ]
  },
  {
   "cell_type": "code",
   "execution_count": 36,
   "id": "5ca5537d",
   "metadata": {},
   "outputs": [
    {
     "name": "stdout",
     "output_type": "stream",
     "text": [
      "[ 10  40  90 160 250]\n",
      "<class 'numpy.ndarray'>\n"
     ]
    }
   ],
   "source": [
    "arr3=arr1*arr2\n",
    "print(arr3)\n",
    "print(type(arr3))"
   ]
  },
  {
   "cell_type": "markdown",
   "id": "d15f1764",
   "metadata": {},
   "source": [
    "element wise division"
   ]
  },
  {
   "cell_type": "code",
   "execution_count": 37,
   "id": "bfcde549",
   "metadata": {},
   "outputs": [
    {
     "name": "stdout",
     "output_type": "stream",
     "text": [
      "[0.1 0.1 0.1 0.1 0.1]\n",
      "<class 'numpy.ndarray'>\n"
     ]
    }
   ],
   "source": [
    "arr3=arr1/arr2\n",
    "print(arr3)\n",
    "print(type(arr3))"
   ]
  },
  {
   "cell_type": "markdown",
   "id": "ec886360",
   "metadata": {},
   "source": [
    "element wise mod"
   ]
  },
  {
   "cell_type": "code",
   "execution_count": 38,
   "id": "5d43c50b",
   "metadata": {},
   "outputs": [
    {
     "name": "stdout",
     "output_type": "stream",
     "text": [
      "[1 2 3 4 5]\n",
      "<class 'numpy.ndarray'>\n"
     ]
    }
   ],
   "source": [
    "arr3=arr1%arr2\n",
    "print(arr3)\n",
    "print(type(arr3))"
   ]
  },
  {
   "cell_type": "markdown",
   "id": "5ff188a2",
   "metadata": {},
   "source": [
    "# Universal Function"
   ]
  },
  {
   "cell_type": "code",
   "execution_count": 43,
   "id": "7de99927",
   "metadata": {},
   "outputs": [],
   "source": [
    "arr=np.array([2,3,4,5,6])"
   ]
  },
  {
   "cell_type": "markdown",
   "id": "f6e070a8",
   "metadata": {},
   "source": [
    "Square root"
   ]
  },
  {
   "cell_type": "code",
   "execution_count": 44,
   "id": "2d936e53",
   "metadata": {},
   "outputs": [
    {
     "name": "stdout",
     "output_type": "stream",
     "text": [
      "[1.41421356 1.73205081 2.         2.23606798 2.44948974]\n"
     ]
    }
   ],
   "source": [
    "arr4=np.sqrt(arr)\n",
    "print(arr4)"
   ]
  },
  {
   "cell_type": "markdown",
   "id": "5915c523",
   "metadata": {},
   "source": [
    "exponential"
   ]
  },
  {
   "cell_type": "code",
   "execution_count": 46,
   "id": "a67e61cf",
   "metadata": {},
   "outputs": [
    {
     "name": "stdout",
     "output_type": "stream",
     "text": [
      "[  7.3890561   20.08553692  54.59815003 148.4131591  403.42879349]\n"
     ]
    }
   ],
   "source": [
    "arr4=np.exp(arr)\n",
    "print(arr4)"
   ]
  },
  {
   "cell_type": "markdown",
   "id": "d1dc273c",
   "metadata": {},
   "source": [
    "Sine"
   ]
  },
  {
   "cell_type": "code",
   "execution_count": 48,
   "id": "68706769",
   "metadata": {},
   "outputs": [
    {
     "name": "stdout",
     "output_type": "stream",
     "text": [
      "[ 0.90929743  0.14112001 -0.7568025  -0.95892427 -0.2794155 ]\n"
     ]
    }
   ],
   "source": [
    "arr4=np.sin(arr)\n",
    "print(arr4)"
   ]
  },
  {
   "cell_type": "markdown",
   "id": "dee6143d",
   "metadata": {},
   "source": [
    "Natural log"
   ]
  },
  {
   "cell_type": "code",
   "execution_count": 50,
   "id": "0bee4d2c",
   "metadata": {},
   "outputs": [
    {
     "name": "stdout",
     "output_type": "stream",
     "text": [
      "[0.69314718 1.09861229 1.38629436 1.60943791 1.79175947]\n"
     ]
    }
   ],
   "source": [
    "arr4=np.log(arr)\n",
    "print(arr4)"
   ]
  },
  {
   "cell_type": "markdown",
   "id": "aa317592",
   "metadata": {},
   "source": [
    "# Array Slicing and Indexing"
   ]
  },
  {
   "cell_type": "code",
   "execution_count": 51,
   "id": "563816b5",
   "metadata": {},
   "outputs": [],
   "source": [
    "arr=np.array([[1,2,3,4],[2,3,4,5],[3,4,5,6]])"
   ]
  },
  {
   "cell_type": "code",
   "execution_count": 52,
   "id": "fc7b2966",
   "metadata": {},
   "outputs": [
    {
     "name": "stdout",
     "output_type": "stream",
     "text": [
      "Array:\n",
      " [[1 2 3 4]\n",
      " [2 3 4 5]\n",
      " [3 4 5 6]]\n"
     ]
    }
   ],
   "source": [
    "print(\"Array:\\n\",arr)"
   ]
  },
  {
   "cell_type": "code",
   "execution_count": 55,
   "id": "57d91efe",
   "metadata": {},
   "outputs": [
    {
     "name": "stdout",
     "output_type": "stream",
     "text": [
      "2\n"
     ]
    }
   ],
   "source": [
    "print(arr[1][0])"
   ]
  },
  {
   "cell_type": "code",
   "execution_count": 56,
   "id": "ad1a8f41",
   "metadata": {},
   "outputs": [
    {
     "name": "stdout",
     "output_type": "stream",
     "text": [
      "[[4 5]\n",
      " [5 6]]\n"
     ]
    }
   ],
   "source": [
    "print(arr[1:,2:])"
   ]
  },
  {
   "cell_type": "code",
   "execution_count": 59,
   "id": "fec336d2",
   "metadata": {},
   "outputs": [
    {
     "name": "stdout",
     "output_type": "stream",
     "text": [
      "[[3 4]\n",
      " [4 5]]\n"
     ]
    }
   ],
   "source": [
    "print(arr[0:2,2:])"
   ]
  },
  {
   "cell_type": "code",
   "execution_count": 61,
   "id": "5d9e33a9",
   "metadata": {},
   "outputs": [
    {
     "name": "stdout",
     "output_type": "stream",
     "text": [
      "[[2 3]\n",
      " [3 4]]\n"
     ]
    }
   ],
   "source": [
    "print(arr[0:2,1:3])"
   ]
  },
  {
   "cell_type": "markdown",
   "id": "fc805780",
   "metadata": {},
   "source": [
    "# Modify Array Elements"
   ]
  },
  {
   "cell_type": "code",
   "execution_count": null,
   "id": "b3edc31e",
   "metadata": {},
   "outputs": [
    {
     "name": "stdout",
     "output_type": "stream",
     "text": [
      "[[100   2   3   4]\n",
      " [  2   3   4   5]\n",
      " [  3   4   5   6]]\n"
     ]
    }
   ],
   "source": [
    "arr[0,0]=100\n",
    "print(arr)"
   ]
  },
  {
   "cell_type": "code",
   "execution_count": 63,
   "id": "7da5e3a7",
   "metadata": {},
   "outputs": [
    {
     "name": "stdout",
     "output_type": "stream",
     "text": [
      "[[100   2   3   4]\n",
      " [200   3   4   5]\n",
      " [  3   4   5   6]]\n"
     ]
    }
   ],
   "source": [
    "arr[1,0]=200\n",
    "print(arr)"
   ]
  },
  {
   "cell_type": "code",
   "execution_count": 64,
   "id": "79c7dc10",
   "metadata": {},
   "outputs": [
    {
     "name": "stdout",
     "output_type": "stream",
     "text": [
      "[[100   2   3   4]\n",
      " [200   3   4   5]\n",
      " [300   4   5   6]]\n"
     ]
    }
   ],
   "source": [
    "arr[2,0]=300\n",
    "print(arr)"
   ]
  }
 ],
 "metadata": {
  "kernelspec": {
   "display_name": "Python 3",
   "language": "python",
   "name": "python3"
  },
  "language_info": {
   "codemirror_mode": {
    "name": "ipython",
    "version": 3
   },
   "file_extension": ".py",
   "mimetype": "text/x-python",
   "name": "python",
   "nbconvert_exporter": "python",
   "pygments_lexer": "ipython3",
   "version": "3.12.0"
  }
 },
 "nbformat": 4,
 "nbformat_minor": 5
}
